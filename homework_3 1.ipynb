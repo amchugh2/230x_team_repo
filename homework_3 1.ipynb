{
 "cells": [
  {
   "cell_type": "code",
   "execution_count": 1,
   "id": "27a158a8-17e2-4211-90a3-6bff9ef9fe53",
   "metadata": {},
   "outputs": [],
   "source": [
    "import pandas as pd\n",
    "import numpy as np\n",
    "import math\n",
    "from scipy.optimize import minimize\n",
    "pd.options.mode.chained_assignment = None"
   ]
  },
  {
   "cell_type": "raw",
   "id": "2af52e3d-b3c8-4d9d-9631-06a00c3e9966",
   "metadata": {},
   "source": [
    "(a) Parse data"
   ]
  },
  {
   "cell_type": "code",
   "execution_count": 2,
   "id": "74649a10-fd50-435c-94fb-06f58774ebac",
   "metadata": {},
   "outputs": [],
   "source": [
    "# read data from WRDS\n",
    "df = pd.read_csv('data.csv', low_memory=False)\n",
    "\n",
    "# filter for targeted exchange\n",
    "target_exchanges = ['T', 'P', 'Z'] # nasdaq, nyse-arca, or bats\n",
    "data = df[df['EX'].isin(target_exchanges)]"
   ]
  },
  {
   "cell_type": "code",
   "execution_count": 6,
   "id": "58738d37-d46c-46d8-8aba-7ef9900c0e11",
   "metadata": {},
   "outputs": [
    {
     "data": {
      "text/plain": [
       "0.7322183887796165"
      ]
     },
     "execution_count": 6,
     "metadata": {},
     "output_type": "execute_result"
    }
   ],
   "source": []
  },
  {
   "cell_type": "code",
   "execution_count": 3,
   "id": "ecc6ada9-142c-4090-8bf5-3f8b5053eca1",
   "metadata": {},
   "outputs": [],
   "source": [
    "# Filter and get rid of negative and zero bid-ask spread\n",
    "data['spread'] = data['ASK'] - data['BID']\n",
    "filtered_data = data[data['spread'] > 0]"
   ]
  },
  {
   "cell_type": "code",
   "execution_count": 4,
   "id": "6511d357-c643-4020-91c0-adcca95d7347",
   "metadata": {},
   "outputs": [],
   "source": [
    "# parse for each security\n",
    "jpm = data[data['SYM_ROOT'] == 'JPM']\n",
    "xlf = data[data['SYM_ROOT'] == 'XLF']\n",
    "qqqq = data[data['SYM_ROOT'] == 'QQQQ']\n",
    "aapl = data[data['SYM_ROOT'] == 'AAPL']"
   ]
  },
  {
   "cell_type": "raw",
   "id": "df072dff-84ea-4874-9cd8-07c971bc34bd",
   "metadata": {},
   "source": [
    "(b) Summary Statistics - Table 2"
   ]
  },
  {
   "cell_type": "code",
   "execution_count": null,
   "id": "5e0d41a1-6880-4071-8246-510ae9378cc0",
   "metadata": {},
   "outputs": [],
   "source": []
  },
  {
   "cell_type": "code",
   "execution_count": null,
   "id": "e641631c-9d5c-4733-813c-72073331b1d7",
   "metadata": {},
   "outputs": [],
   "source": [
    "# Convert time and date into datetime\n",
    "data['DATE'] = data['DATE'].astype(str)\n",
    "data['TIME_M'] = data['TIME_M'].astype(str)\n",
    "data['TIMESTAMP'] = pd.to_datetime(data['DATE'] + ' ' + data['TIME_M'])\n",
    "\n",
    "data['midquote'] = (data['BID'] + data['ASK']) / 2\n",
    "data['spread'] = data['ASK'] - data['BID']\n",
    "data['bsize_asize'] = data['BIDSIZ'] + data['ASKSIZ']\n",
    "time_diff = (data['TIMESTAMP'].max() - data['TIMESTAMP'].min()).total_seconds()\n",
    "\n",
    "summary_stats = data.groupby(['SYM_ROOT', 'EX']).agg(\n",
    "    num_quotes=('midquote', 'size'),\n",
    "    avg_spread=('spread', 'mean'),\n",
    "    avg_bsize_asize=('bsize_asize', 'mean'),\n",
    "    avg_price=('midquote', 'mean')\n",
    ").reset_index()\n",
    "\n",
    "# edit the results to look exactly like the table in the paper\n",
    "summary_stats['quotes_per_sec'] = (summary_stats['num_quotes'] / ((6 * 60 * 60) * 5)).astype(int)\n",
    "summary_stats['num_quotes'] = round(summary_stats['num_quotes'] / 1e6, 1)\n",
    "summary_stats['avg_spread'] = round(summary_stats['avg_spread'], 3)\n",
    "summary_stats['avg_bsize_asize'] = summary_stats['avg_bsize_asize'].apply(\n",
    "    lambda x: int(x) if x > 10 else round(x, 1)\n",
    ")\n",
    "summary_stats['avg_price'] = round(summary_stats['avg_price'], 2)\n",
    "\n",
    "summary_stats.rename(columns={\n",
    "    'SYM_ROOT': 'Ticker',\n",
    "    'EX': 'Exchange',\n",
    "    'num_quotes': 'Num Quotes',\n",
    "    'avg_spread': 'avg(spread)',\n",
    "    'avg_bsize_asize': 'avg(bsize + asize)',\n",
    "    'avg_price': 'avg(price)'\n",
    "}, inplace=True)\n",
    "\n",
    "exchange_mapping = {\n",
    "    'T': 'NASDAQ',\n",
    "    'P': 'NYSE',\n",
    "    'Z': 'BATS'\n",
    "}\n",
    "summary_stats['Exchange'] = summary_stats['Exchange'].replace(exchange_mapping)\n",
    "exchange_order = ['NASDAQ', 'NYSE', 'BATS']\n",
    "summary_stats['Exchange'] = pd.Categorical(summary_stats['Exchange'], categories=exchange_order, ordered=True)\n",
    "\n",
    "ticker_order = ['XLF', 'QQQQ', 'JPM', 'AAPL']\n",
    "summary_stats['Ticker'] = pd.Categorical(summary_stats['Ticker'], categories=ticker_order, ordered=True)\n",
    "\n",
    "summary_stats = summary_stats[['Ticker', 'Exchange', 'Num Quotes', 'quotes_per_sec', 'avg(spread)', 'avg(bsize + asize)', 'avg(price)']]\n",
    "\n",
    "summary_stats = summary_stats.sort_values(by=['Ticker', 'Exchange'], ascending=[True, True])"
   ]
  },
  {
   "cell_type": "code",
   "execution_count": null,
   "id": "3df01ac7-8d57-4309-a808-d378051f9ef1",
   "metadata": {},
   "outputs": [],
   "source": [
    "summary_stats"
   ]
  },
  {
   "cell_type": "markdown",
   "id": "4c96a9ba-267c-476d-a09b-a2a32abf13af",
   "metadata": {},
   "source": [
    "(c) Table 3 - Empirical vs. Model probabilities for the probability of an\n",
    "upward move on Nasdaq (T) for all 4 securities."
   ]
  },
  {
   "cell_type": "code",
   "execution_count": 4,
   "id": "d3fcd248-ae68-4857-bbcf-80a2551307d4",
   "metadata": {},
   "outputs": [],
   "source": [
    "from scipy.optimize import minimize"
   ]
  },
  {
   "cell_type": "code",
   "execution_count": 11,
   "id": "a512415c-b057-4a7e-a24a-2e1aad58b437",
   "metadata": {},
   "outputs": [
    {
     "name": "stdout",
     "output_type": "stream",
     "text": [
      "       DATE        TIME_M EX SYM_ROOT SYM_SUFFIX     BID  BIDSIZ     ASK  \\\n",
      "1  20100104  10:00:00.030  T     AAPL        NaN  213.25       2  213.36   \n",
      "4  20100104  10:00:00.133  T     AAPL        NaN  213.25       3  213.36   \n",
      "5  20100104  10:00:00.137  T     AAPL        NaN  213.25       3  213.36   \n",
      "7  20100104  10:00:00.333  Z     AAPL        NaN  213.23       1  213.37   \n",
      "8  20100104  10:00:00.337  T     AAPL        NaN  213.25       3  213.38   \n",
      "\n",
      "   ASKSIZ  spread  \n",
      "1       2    0.11  \n",
      "4       2    0.11  \n",
      "5       1    0.11  \n",
      "7       2    0.14  \n",
      "8       1    0.13  \n"
     ]
    },
    {
     "name": "stderr",
     "output_type": "stream",
     "text": [
      "/tmp/ipykernel_20979/1731160128.py:15: FutureWarning: The 'method' keyword in Series.replace is deprecated and will be removed in a future version.\n",
      "  td['Direction'] = td['Direction'].replace(to_replace=0, method='bfill')\n"
     ]
    },
    {
     "ename": "KeyboardInterrupt",
     "evalue": "",
     "output_type": "error",
     "traceback": [
      "\u001b[0;31m---------------------------------------------------------------------------\u001b[0m",
      "\u001b[0;31mKeyboardInterrupt\u001b[0m                         Traceback (most recent call last)",
      "Cell \u001b[0;32mIn[11], line 87\u001b[0m\n\u001b[1;32m     85\u001b[0m \u001b[38;5;66;03m# Example usage:\u001b[39;00m\n\u001b[1;32m     86\u001b[0m bid_decile, ask_decile, directions, bid_boundaries, ask_boundaries \u001b[38;5;241m=\u001b[39m calc_empirical_prob(data, \u001b[38;5;124m'\u001b[39m\u001b[38;5;124mAAPL\u001b[39m\u001b[38;5;124m'\u001b[39m, \u001b[38;5;124m'\u001b[39m\u001b[38;5;124mT\u001b[39m\u001b[38;5;124m'\u001b[39m)\n\u001b[0;32m---> 87\u001b[0m H_optimal \u001b[38;5;241m=\u001b[39m estimate_H(bid_decile, ask_decile, directions)\n",
      "Cell \u001b[0;32mIn[11], line 77\u001b[0m, in \u001b[0;36mestimate_H\u001b[0;34m(bid_decile, ask_decile, directions)\u001b[0m\n\u001b[1;32m     74\u001b[0m initial_guess \u001b[38;5;241m=\u001b[39m [\u001b[38;5;241m0.5\u001b[39m]  \u001b[38;5;66;03m# Starting guess for H\u001b[39;00m\n\u001b[1;32m     76\u001b[0m \u001b[38;5;66;03m# Minimize the objective function to estimate H\u001b[39;00m\n\u001b[0;32m---> 77\u001b[0m result \u001b[38;5;241m=\u001b[39m minimize(objective_function, initial_guess, args\u001b[38;5;241m=\u001b[39m(bid_decile, ask_decile, directions))\n\u001b[1;32m     79\u001b[0m \u001b[38;5;66;03m# Retrieve the optimal value for H\u001b[39;00m\n\u001b[1;32m     80\u001b[0m H_optimal \u001b[38;5;241m=\u001b[39m result\u001b[38;5;241m.\u001b[39mx[\u001b[38;5;241m0\u001b[39m]\n",
      "File \u001b[0;32m~/anaconda3/lib/python3.11/site-packages/scipy/optimize/_minimize.py:708\u001b[0m, in \u001b[0;36mminimize\u001b[0;34m(fun, x0, args, method, jac, hess, hessp, bounds, constraints, tol, callback, options)\u001b[0m\n\u001b[1;32m    706\u001b[0m     res \u001b[38;5;241m=\u001b[39m _minimize_cg(fun, x0, args, jac, callback, \u001b[38;5;241m*\u001b[39m\u001b[38;5;241m*\u001b[39moptions)\n\u001b[1;32m    707\u001b[0m \u001b[38;5;28;01melif\u001b[39;00m meth \u001b[38;5;241m==\u001b[39m \u001b[38;5;124m'\u001b[39m\u001b[38;5;124mbfgs\u001b[39m\u001b[38;5;124m'\u001b[39m:\n\u001b[0;32m--> 708\u001b[0m     res \u001b[38;5;241m=\u001b[39m _minimize_bfgs(fun, x0, args, jac, callback, \u001b[38;5;241m*\u001b[39m\u001b[38;5;241m*\u001b[39moptions)\n\u001b[1;32m    709\u001b[0m \u001b[38;5;28;01melif\u001b[39;00m meth \u001b[38;5;241m==\u001b[39m \u001b[38;5;124m'\u001b[39m\u001b[38;5;124mnewton-cg\u001b[39m\u001b[38;5;124m'\u001b[39m:\n\u001b[1;32m    710\u001b[0m     res \u001b[38;5;241m=\u001b[39m _minimize_newtoncg(fun, x0, args, jac, hess, hessp, callback,\n\u001b[1;32m    711\u001b[0m                              \u001b[38;5;241m*\u001b[39m\u001b[38;5;241m*\u001b[39moptions)\n",
      "File \u001b[0;32m~/anaconda3/lib/python3.11/site-packages/scipy/optimize/_optimize.py:1477\u001b[0m, in \u001b[0;36m_minimize_bfgs\u001b[0;34m(fun, x0, args, jac, callback, gtol, norm, eps, maxiter, disp, return_all, finite_diff_rel_step, xrtol, c1, c2, hess_inv0, **unknown_options)\u001b[0m\n\u001b[1;32m   1474\u001b[0m \u001b[38;5;28;01mif\u001b[39;00m maxiter \u001b[38;5;129;01mis\u001b[39;00m \u001b[38;5;28;01mNone\u001b[39;00m:\n\u001b[1;32m   1475\u001b[0m     maxiter \u001b[38;5;241m=\u001b[39m \u001b[38;5;28mlen\u001b[39m(x0) \u001b[38;5;241m*\u001b[39m \u001b[38;5;241m200\u001b[39m\n\u001b[0;32m-> 1477\u001b[0m sf \u001b[38;5;241m=\u001b[39m _prepare_scalar_function(fun, x0, jac, args\u001b[38;5;241m=\u001b[39margs, epsilon\u001b[38;5;241m=\u001b[39meps,\n\u001b[1;32m   1478\u001b[0m                               finite_diff_rel_step\u001b[38;5;241m=\u001b[39mfinite_diff_rel_step)\n\u001b[1;32m   1480\u001b[0m f \u001b[38;5;241m=\u001b[39m sf\u001b[38;5;241m.\u001b[39mfun\n\u001b[1;32m   1481\u001b[0m myfprime \u001b[38;5;241m=\u001b[39m sf\u001b[38;5;241m.\u001b[39mgrad\n",
      "File \u001b[0;32m~/anaconda3/lib/python3.11/site-packages/scipy/optimize/_optimize.py:402\u001b[0m, in \u001b[0;36m_prepare_scalar_function\u001b[0;34m(fun, x0, jac, args, bounds, epsilon, finite_diff_rel_step, hess)\u001b[0m\n\u001b[1;32m    398\u001b[0m     bounds \u001b[38;5;241m=\u001b[39m (\u001b[38;5;241m-\u001b[39mnp\u001b[38;5;241m.\u001b[39minf, np\u001b[38;5;241m.\u001b[39minf)\n\u001b[1;32m    400\u001b[0m \u001b[38;5;66;03m# ScalarFunction caches. Reuse of fun(x) during grad\u001b[39;00m\n\u001b[1;32m    401\u001b[0m \u001b[38;5;66;03m# calculation reduces overall function evaluations.\u001b[39;00m\n\u001b[0;32m--> 402\u001b[0m sf \u001b[38;5;241m=\u001b[39m ScalarFunction(fun, x0, args, grad, hess,\n\u001b[1;32m    403\u001b[0m                     finite_diff_rel_step, bounds, epsilon\u001b[38;5;241m=\u001b[39mepsilon)\n\u001b[1;32m    405\u001b[0m \u001b[38;5;28;01mreturn\u001b[39;00m sf\n",
      "File \u001b[0;32m~/anaconda3/lib/python3.11/site-packages/scipy/optimize/_differentiable_functions.py:166\u001b[0m, in \u001b[0;36mScalarFunction.__init__\u001b[0;34m(self, fun, x0, args, grad, hess, finite_diff_rel_step, finite_diff_bounds, epsilon)\u001b[0m\n\u001b[1;32m    163\u001b[0m     \u001b[38;5;28mself\u001b[39m\u001b[38;5;241m.\u001b[39mf \u001b[38;5;241m=\u001b[39m fun_wrapped(\u001b[38;5;28mself\u001b[39m\u001b[38;5;241m.\u001b[39mx)\n\u001b[1;32m    165\u001b[0m \u001b[38;5;28mself\u001b[39m\u001b[38;5;241m.\u001b[39m_update_fun_impl \u001b[38;5;241m=\u001b[39m update_fun\n\u001b[0;32m--> 166\u001b[0m \u001b[38;5;28mself\u001b[39m\u001b[38;5;241m.\u001b[39m_update_fun()\n\u001b[1;32m    168\u001b[0m \u001b[38;5;66;03m# Gradient evaluation\u001b[39;00m\n\u001b[1;32m    169\u001b[0m \u001b[38;5;28;01mif\u001b[39;00m \u001b[38;5;28mcallable\u001b[39m(grad):\n",
      "File \u001b[0;32m~/anaconda3/lib/python3.11/site-packages/scipy/optimize/_differentiable_functions.py:262\u001b[0m, in \u001b[0;36mScalarFunction._update_fun\u001b[0;34m(self)\u001b[0m\n\u001b[1;32m    260\u001b[0m \u001b[38;5;28;01mdef\u001b[39;00m \u001b[38;5;21m_update_fun\u001b[39m(\u001b[38;5;28mself\u001b[39m):\n\u001b[1;32m    261\u001b[0m     \u001b[38;5;28;01mif\u001b[39;00m \u001b[38;5;129;01mnot\u001b[39;00m \u001b[38;5;28mself\u001b[39m\u001b[38;5;241m.\u001b[39mf_updated:\n\u001b[0;32m--> 262\u001b[0m         \u001b[38;5;28mself\u001b[39m\u001b[38;5;241m.\u001b[39m_update_fun_impl()\n\u001b[1;32m    263\u001b[0m         \u001b[38;5;28mself\u001b[39m\u001b[38;5;241m.\u001b[39mf_updated \u001b[38;5;241m=\u001b[39m \u001b[38;5;28;01mTrue\u001b[39;00m\n",
      "File \u001b[0;32m~/anaconda3/lib/python3.11/site-packages/scipy/optimize/_differentiable_functions.py:163\u001b[0m, in \u001b[0;36mScalarFunction.__init__.<locals>.update_fun\u001b[0;34m()\u001b[0m\n\u001b[1;32m    162\u001b[0m \u001b[38;5;28;01mdef\u001b[39;00m \u001b[38;5;21mupdate_fun\u001b[39m():\n\u001b[0;32m--> 163\u001b[0m     \u001b[38;5;28mself\u001b[39m\u001b[38;5;241m.\u001b[39mf \u001b[38;5;241m=\u001b[39m fun_wrapped(\u001b[38;5;28mself\u001b[39m\u001b[38;5;241m.\u001b[39mx)\n",
      "File \u001b[0;32m~/anaconda3/lib/python3.11/site-packages/scipy/optimize/_differentiable_functions.py:145\u001b[0m, in \u001b[0;36mScalarFunction.__init__.<locals>.fun_wrapped\u001b[0;34m(x)\u001b[0m\n\u001b[1;32m    141\u001b[0m \u001b[38;5;28mself\u001b[39m\u001b[38;5;241m.\u001b[39mnfev \u001b[38;5;241m+\u001b[39m\u001b[38;5;241m=\u001b[39m \u001b[38;5;241m1\u001b[39m\n\u001b[1;32m    142\u001b[0m \u001b[38;5;66;03m# Send a copy because the user may overwrite it.\u001b[39;00m\n\u001b[1;32m    143\u001b[0m \u001b[38;5;66;03m# Overwriting results in undefined behaviour because\u001b[39;00m\n\u001b[1;32m    144\u001b[0m \u001b[38;5;66;03m# fun(self.x) will change self.x, with the two no longer linked.\u001b[39;00m\n\u001b[0;32m--> 145\u001b[0m fx \u001b[38;5;241m=\u001b[39m fun(np\u001b[38;5;241m.\u001b[39mcopy(x), \u001b[38;5;241m*\u001b[39margs)\n\u001b[1;32m    146\u001b[0m \u001b[38;5;66;03m# Make sure the function returns a true scalar\u001b[39;00m\n\u001b[1;32m    147\u001b[0m \u001b[38;5;28;01mif\u001b[39;00m \u001b[38;5;129;01mnot\u001b[39;00m np\u001b[38;5;241m.\u001b[39misscalar(fx):\n",
      "Cell \u001b[0;32mIn[11], line 63\u001b[0m, in \u001b[0;36mobjective_function\u001b[0;34m(H, bid_decile, ask_decile, directions)\u001b[0m\n\u001b[1;32m     60\u001b[0m model_p \u001b[38;5;241m=\u001b[39m model_prob(bid_decile[i], ask_decile[j], H)\n\u001b[1;32m     62\u001b[0m \u001b[38;5;66;03m# Retrieve the actual direction (up/down move) for comparison\u001b[39;00m\n\u001b[0;32m---> 63\u001b[0m actual_direction \u001b[38;5;241m=\u001b[39m directions[(bid_decile \u001b[38;5;241m==\u001b[39m i) \u001b[38;5;241m&\u001b[39m (ask_decile \u001b[38;5;241m==\u001b[39m j)]\n\u001b[1;32m     65\u001b[0m actual_prob \u001b[38;5;241m=\u001b[39m (actual_direction \u001b[38;5;241m==\u001b[39m \u001b[38;5;241m1\u001b[39m)\u001b[38;5;241m.\u001b[39mmean()  \u001b[38;5;66;03m# Calculate empirical probability of upward moves\u001b[39;00m\n\u001b[1;32m     67\u001b[0m \u001b[38;5;66;03m# Add weighted squared error to the total error\u001b[39;00m\n",
      "File \u001b[0;32m~/anaconda3/lib/python3.11/site-packages/pandas/core/series.py:1095\u001b[0m, in \u001b[0;36mSeries.__getitem__\u001b[0;34m(self, key)\u001b[0m\n\u001b[1;32m   1092\u001b[0m     out\u001b[38;5;241m.\u001b[39m_name \u001b[38;5;241m=\u001b[39m \u001b[38;5;28mself\u001b[39m\u001b[38;5;241m.\u001b[39m_name\n\u001b[1;32m   1093\u001b[0m     \u001b[38;5;28;01mreturn\u001b[39;00m out\u001b[38;5;241m.\u001b[39m__finalize__(\u001b[38;5;28mself\u001b[39m)\n\u001b[0;32m-> 1095\u001b[0m \u001b[38;5;28;01mdef\u001b[39;00m \u001b[38;5;21m__getitem__\u001b[39m(\u001b[38;5;28mself\u001b[39m, key):\n\u001b[1;32m   1096\u001b[0m     check_dict_or_set_indexers(key)\n\u001b[1;32m   1097\u001b[0m     key \u001b[38;5;241m=\u001b[39m com\u001b[38;5;241m.\u001b[39mapply_if_callable(key, \u001b[38;5;28mself\u001b[39m)\n",
      "\u001b[0;31mKeyboardInterrupt\u001b[0m: "
     ]
    }
   ],
   "source": [
    "def calc_empirical_prob(data, ticker, exchange, spread=None):\n",
    "    # Filter data for the given ticker, exchange, and spread range\n",
    "    if spread is None:\n",
    "        print(data.head())\n",
    "        td = data[(data['SYM_ROOT'] == ticker) & (data['EX'] == exchange) & (data['spread'] > 0)].copy()\n",
    "    else:\n",
    "        td = data[(data['SYM_ROOT'] == ticker) & (data['EX'] == exchange) \n",
    "                  & (data['spread'] > 0) & (np.round(data['spread'].values, 2) == spread)].copy()\n",
    "    \n",
    "    # Calculate midquote\n",
    "    td['MIDQUOTE'] = (td['BID'] + td['ASK']) / 2\n",
    "    \n",
    "    # Calculate direction based on MID price changes\n",
    "    td['Direction'] = [0] + list(np.sign(np.diff(td['MIDQUOTE'].values)))\n",
    "    td['Direction'] = td['Direction'].replace(to_replace=0, method='bfill')\n",
    "\n",
    "    # Above is from vinicio ( do not touch )\n",
    "\n",
    "    # Vinicio told me the above should be enough logic to send it to the minimizer.. I feel like\n",
    "    # I am missing something\n",
    "    \n",
    "    # Sort BIDSIZ and ASKSIZ\n",
    "    sorted_bidsiz = np.sort(td['BIDSIZ'].values)\n",
    "    sorted_asksiz = np.sort(td['ASKSIZ'].values)\n",
    "    \n",
    "    # Number of buckets\n",
    "    num_buckets = 10\n",
    "    \n",
    "    # Calculate bucket boundaries using ceiling of the length and bucket position (from assignment description)\n",
    "    bid_bucket_pos = np.ceil(len(sorted_bidsiz) / num_buckets * np.arange(1, num_buckets + 1)).astype(int)\n",
    "    ask_bucket_pos = np.ceil(len(sorted_asksiz) / num_buckets * np.arange(1, num_buckets + 1)).astype(int)\n",
    "    \n",
    "    # Create boundaries for bid and ask size buckets\n",
    "    bid_boundaries = sorted_bidsiz[bid_bucket_pos - 1]  # Subtract 1 for zero-indexing\n",
    "    ask_boundaries = sorted_asksiz[ask_bucket_pos - 1]\n",
    "    \n",
    "    # Assign bid and ask size buckets based on the created boundaries\n",
    "    td['BIDSIZ_bucket'] = pd.cut(td['BIDSIZ'], bins=[-np.inf] + list(bid_boundaries) + [np.inf], labels=False, duplicates=\"drop\")\n",
    "    td['ASKSIZ_bucket'] = pd.cut(td['ASKSIZ'], bins=[-np.inf] + list(ask_boundaries) + [np.inf], labels=False, duplicates=\"drop\")\n",
    "\n",
    "    # Return the deciles and directions for future calculations\n",
    "    return td['BIDSIZ_bucket'], td['ASKSIZ_bucket'], td['Direction'], bid_boundaries, ask_boundaries\n",
    "\n",
    "# Model probability function using deciles\n",
    "def model_prob(i, j, H):\n",
    "    return (j + H) / (j + i + 2 * H)\n",
    "\n",
    "def objective_function(H, bid_decile, ask_decile, directions):\n",
    "    total_error = 0\n",
    "    num_buckets = len(bid_decile)\n",
    "\n",
    "    # Convert deciles to numpy arrays for index-based access\n",
    "    bid_decile = bid_decile.to_numpy()\n",
    "    ask_decile = ask_decile.to_numpy()\n",
    "\n",
    "    # Iterate through the bid and ask decile buckets\n",
    "    for i in range(num_buckets):\n",
    "        for j in range(num_buckets):\n",
    "            # Get model probability using the current H\n",
    "            model_p = model_prob(bid_decile[i], ask_decile[j], H)\n",
    "            \n",
    "            # Retrieve the actual direction (up/down move) for comparison\n",
    "            actual_direction = directions[(bid_decile == i) & (ask_decile == j)]\n",
    "            \n",
    "            actual_prob = (actual_direction == 1).mean()  # Calculate empirical probability of upward moves\n",
    "            \n",
    "            # Add weighted squared error to the total error\n",
    "            total_error += ((actual_prob - model_p) ** 2) * len(actual_direction)  # Weighted error\n",
    "    \n",
    "    return total_error\n",
    "\n",
    "# Function to estimate H using deciles and directions\n",
    "def estimate_H(bid_decile, ask_decile, directions):\n",
    "    initial_guess = [0.5]  # Starting guess for H\n",
    "\n",
    "    # Minimize the objective function to estimate H\n",
    "    result = minimize(objective_function, initial_guess, args=(bid_decile, ask_decile, directions))\n",
    "\n",
    "    # Retrieve the optimal value for H\n",
    "    H_optimal = result.x[0]\n",
    "    print(f\"Estimated H: {H_optimal}\")\n",
    "    \n",
    "    return H_optimal\n",
    "\n",
    "# Example usage:\n",
    "bid_decile, ask_decile, directions, bid_boundaries, ask_boundaries = calc_empirical_prob(data, 'AAPL', 'T')\n",
    "H_optimal = estimate_H(bid_decile, ask_decile, directions)\n"
   ]
  },
  {
   "cell_type": "code",
   "execution_count": 62,
   "id": "4c165685-4d5d-48c0-817d-65f765fa101f",
   "metadata": {},
   "outputs": [
    {
     "name": "stdout",
     "output_type": "stream",
     "text": [
      "       DATE        TIME_M EX SYM_ROOT SYM_SUFFIX     BID  BIDSIZ     ASK  \\\n",
      "1  20100104  10:00:00.030  T     AAPL        NaN  213.25       2  213.36   \n",
      "4  20100104  10:00:00.133  T     AAPL        NaN  213.25       3  213.36   \n",
      "5  20100104  10:00:00.137  T     AAPL        NaN  213.25       3  213.36   \n",
      "7  20100104  10:00:00.333  Z     AAPL        NaN  213.23       1  213.37   \n",
      "8  20100104  10:00:00.337  T     AAPL        NaN  213.25       3  213.38   \n",
      "\n",
      "   ASKSIZ  spread  \n",
      "1       2    0.11  \n",
      "4       2    0.11  \n",
      "5       1    0.11  \n",
      "7       2    0.14  \n",
      "8       1    0.13  \n"
     ]
    },
    {
     "name": "stderr",
     "output_type": "stream",
     "text": [
      "/tmp/ipykernel_6620/949758005.py:16: FutureWarning: The 'method' keyword in Series.replace is deprecated and will be removed in a future version.\n",
      "  td['Direction'] = td['Direction'].replace(to_replace=0, method='bfill')\n"
     ]
    }
   ],
   "source": [
    "spread=None\n",
    "ticker='XLF'\n",
    "exchange='T'\n",
    "if spread is None:\n",
    "    print(data.head())\n",
    "    td = data[(data['SYM_ROOT'] == ticker) & (data['EX'] == exchange) & (data['spread'] > 0)].copy()\n",
    "else:\n",
    "    td = data[(data['SYM_ROOT'] == ticker) & (data['EX'] == exchange) \n",
    "              & (data['spread'] > 0) & (np.round(data['spread'].values, 2) == spread)].copy()\n",
    "\n",
    "# Calculate midquote\n",
    "td['MIDQUOTE'] = (td['BID'] + td['ASK']) / 2\n",
    "\n",
    "# Calculate direction based on MID price changes\n",
    "td['Direction'] = [0]+list(np.sign(np.diff(td['MIDQUOTE'].values)))\n",
    "td['Direction'] = td['Direction'].replace(to_replace=0, method='bfill')"
   ]
  },
  {
   "cell_type": "code",
   "execution_count": 63,
   "id": "8f79b558-0cce-4ee0-807d-7d1b873774d7",
   "metadata": {},
   "outputs": [
    {
     "data": {
      "text/plain": [
       "array([1436., 2277., 3351., 4505., 5237., 5623., 5985., 6427., 6995.])"
      ]
     },
     "execution_count": 63,
     "metadata": {},
     "output_type": "execute_result"
    }
   ],
   "source": [
    "td['BIDSIZ'].quantile(np.arange(0.1,1,0.1)).values"
   ]
  },
  {
   "cell_type": "code",
   "execution_count": 68,
   "id": "68aaf347-275d-410f-831e-f9c55c3c5c70",
   "metadata": {},
   "outputs": [],
   "source": [
    "# Create boundaries for bid and ask size buckets\n",
    "bid_boundaries = td['BIDSIZ'].quantile(np.arange(0.1,1,0.1)).values\n",
    "ask_boundaries = td['ASKSIZ'].quantile(np.arange(0.1,1,0.1)).values\n",
    "\n",
    "# Assign bid and ask size buckets based on the created boundaries\n",
    "td['BIDSIZ_bucket'] = pd.cut(td['BIDSIZ'], bins=[-np.inf] + list(bid_boundaries) + [np.inf], labels=False, duplicates=\"drop\")\n",
    "td['ASKSIZ_bucket'] = pd.cut(td['ASKSIZ'], bins=[-np.inf] + list(ask_boundaries) + [np.inf], labels=False, duplicates=\"drop\")"
   ]
  },
  {
   "cell_type": "code",
   "execution_count": 69,
   "id": "19371e2e-848a-48d2-890b-4b83d90ccfcf",
   "metadata": {},
   "outputs": [],
   "source": [
    "def model_prob(i, j, H):\n",
    "    return (i + H) / (j + i + 2 * H)\n",
    "\n",
    "def objective_function(H, bid_decile, ask_decile, directions):\n",
    "    total_error = 0\n",
    "    num_buckets = len(bid_decile.unique())\n",
    "\n",
    "    # Convert deciles to numpy arrays for index-based access\n",
    "    # bid_decile = bid_decile.to_numpy()\n",
    "    # ask_decile = ask_decile.to_numpy()\n",
    "\n",
    "    # Iterate through the bid and ask decile buckets\n",
    "    for i in range(9):\n",
    "        for j in range(9):\n",
    "            # Get model probability using the current H\n",
    "            model_p = model_prob((i+1)/10, (j+1)/10, H)\n",
    "            \n",
    "            # Retrieve the actual direction (up/down move) for comparison\n",
    "            actual_direction = directions[(bid_decile == i) & (ask_decile == j)]\n",
    "            \n",
    "            actual_prob = (actual_direction == 1).mean()  # Calculate empirical probability of upward moves\n",
    "            \n",
    "            # Add weighted squared error to the total error\n",
    "            total_error += ((actual_prob - model_p) ** 2) * len(actual_direction)  # Weighted error\n",
    "    \n",
    "    return total_error\n",
    "\n",
    "# Function to estimate H using deciles and directions\n",
    "def estimate_H(bid_decile, ask_decile, directions):\n",
    "    initial_guess = 0.2 # Starting guess for H\n",
    "\n",
    "    # Minimize the objective function to estimate H\n",
    "    result = minimize(objective_function, initial_guess, args=(bid_decile, ask_decile, directions),method='Nelder-Mead')\n",
    "\n",
    "    # Retrieve the optimal value for H\n",
    "    H_optimal = result.x[0]\n",
    "    print(f\"Estimated H: {H_optimal}\\n Success: {result.success}\\n Message: {result.message}\")\n",
    "    \n",
    "    return H_optimal"
   ]
  },
  {
   "cell_type": "code",
   "execution_count": 70,
   "id": "ddad12cd-e66d-4844-891a-cbaf99c076b0",
   "metadata": {},
   "outputs": [
    {
     "name": "stdout",
     "output_type": "stream",
     "text": [
      "Estimated H: 0.19453125000000002\n",
      " Success: True\n",
      " Message: Optimization terminated successfully.\n"
     ]
    }
   ],
   "source": [
    "H=estimate_H(td['BIDSIZ_bucket'], td['ASKSIZ_bucket'], td['Direction'])"
   ]
  },
  {
   "cell_type": "code",
   "execution_count": 71,
   "id": "b4255f04-3453-46f7-966d-a93a3a2030d2",
   "metadata": {},
   "outputs": [
    {
     "data": {
      "text/plain": [
       "array([1, 2, 0, 3, 4, 5, 6, 7, 8, 9])"
      ]
     },
     "execution_count": 71,
     "metadata": {},
     "output_type": "execute_result"
    }
   ],
   "source": [
    "td['BIDSIZ_bucket'].unique()"
   ]
  },
  {
   "cell_type": "code",
   "execution_count": 72,
   "id": "17aa3961-a4bc-4d54-9841-64dfd75be178",
   "metadata": {},
   "outputs": [
    {
     "name": "stdout",
     "output_type": "stream",
     "text": [
      "19474.813876581284\n"
     ]
    }
   ],
   "source": [
    "emp_prob=[]\n",
    "mp=[]\n",
    "directions=td['Direction']\n",
    "err=0\n",
    "H=0.140078125\n",
    "for i in range(10):\n",
    "    emp_row=[]\n",
    "    model_row=[]\n",
    "    for j in range(10):\n",
    "        actual_direction = directions[(td['BIDSIZ_bucket'] == i) & (td['ASKSIZ_bucket'] == j)]\n",
    "        actual_prob = (actual_direction == 1).mean()\n",
    "        emp_row.append(actual_prob)\n",
    "\n",
    "        model_p=model_prob(i,j,H)\n",
    "        model_row.append(model_p)\n",
    "        err += ((actual_prob - model_p) ** 2) * len(actual_direction)\n",
    "    emp_prob.append(emp_row)\n",
    "    mp.append(model_row)\n",
    "print(err)"
   ]
  },
  {
   "cell_type": "code",
   "execution_count": 73,
   "id": "f8b65a65-e03e-4819-9611-1a68e35c3787",
   "metadata": {},
   "outputs": [
    {
     "data": {
      "text/html": [
       "<div>\n",
       "<style scoped>\n",
       "    .dataframe tbody tr th:only-of-type {\n",
       "        vertical-align: middle;\n",
       "    }\n",
       "\n",
       "    .dataframe tbody tr th {\n",
       "        vertical-align: top;\n",
       "    }\n",
       "\n",
       "    .dataframe thead th {\n",
       "        text-align: right;\n",
       "    }\n",
       "</style>\n",
       "<table border=\"1\" class=\"dataframe\">\n",
       "  <thead>\n",
       "    <tr style=\"text-align: right;\">\n",
       "      <th></th>\n",
       "      <th>0.1</th>\n",
       "      <th>0.2</th>\n",
       "      <th>0.3</th>\n",
       "      <th>0.4</th>\n",
       "      <th>0.5</th>\n",
       "      <th>0.6</th>\n",
       "      <th>0.7</th>\n",
       "      <th>0.8</th>\n",
       "      <th>0.9</th>\n",
       "      <th>1.0</th>\n",
       "    </tr>\n",
       "  </thead>\n",
       "  <tbody>\n",
       "    <tr>\n",
       "      <th>0.1</th>\n",
       "      <td>0.633028</td>\n",
       "      <td>0.591463</td>\n",
       "      <td>0.153005</td>\n",
       "      <td>0.284708</td>\n",
       "      <td>0.563458</td>\n",
       "      <td>0.369123</td>\n",
       "      <td>0.304791</td>\n",
       "      <td>0.206323</td>\n",
       "      <td>0.268373</td>\n",
       "      <td>0.058412</td>\n",
       "    </tr>\n",
       "    <tr>\n",
       "      <th>0.2</th>\n",
       "      <td>0.688119</td>\n",
       "      <td>0.321429</td>\n",
       "      <td>0.391026</td>\n",
       "      <td>0.914831</td>\n",
       "      <td>0.306097</td>\n",
       "      <td>0.415805</td>\n",
       "      <td>0.360162</td>\n",
       "      <td>0.321287</td>\n",
       "      <td>0.267038</td>\n",
       "      <td>0.217802</td>\n",
       "    </tr>\n",
       "    <tr>\n",
       "      <th>0.3</th>\n",
       "      <td>0.665904</td>\n",
       "      <td>0.730600</td>\n",
       "      <td>0.943888</td>\n",
       "      <td>0.785340</td>\n",
       "      <td>0.383063</td>\n",
       "      <td>0.448708</td>\n",
       "      <td>0.458631</td>\n",
       "      <td>0.471003</td>\n",
       "      <td>0.463641</td>\n",
       "      <td>0.404683</td>\n",
       "    </tr>\n",
       "    <tr>\n",
       "      <th>0.4</th>\n",
       "      <td>0.931987</td>\n",
       "      <td>0.818571</td>\n",
       "      <td>0.546036</td>\n",
       "      <td>0.622512</td>\n",
       "      <td>0.463393</td>\n",
       "      <td>0.520770</td>\n",
       "      <td>0.481531</td>\n",
       "      <td>0.515766</td>\n",
       "      <td>0.519464</td>\n",
       "      <td>0.395913</td>\n",
       "    </tr>\n",
       "    <tr>\n",
       "      <th>0.5</th>\n",
       "      <td>0.655863</td>\n",
       "      <td>0.562500</td>\n",
       "      <td>0.568316</td>\n",
       "      <td>0.645227</td>\n",
       "      <td>0.563770</td>\n",
       "      <td>0.553932</td>\n",
       "      <td>0.627019</td>\n",
       "      <td>0.555358</td>\n",
       "      <td>0.561178</td>\n",
       "      <td>0.552814</td>\n",
       "    </tr>\n",
       "    <tr>\n",
       "      <th>0.6</th>\n",
       "      <td>0.790613</td>\n",
       "      <td>0.335667</td>\n",
       "      <td>0.692726</td>\n",
       "      <td>0.586228</td>\n",
       "      <td>0.550035</td>\n",
       "      <td>0.537295</td>\n",
       "      <td>0.506215</td>\n",
       "      <td>0.499361</td>\n",
       "      <td>0.585101</td>\n",
       "      <td>0.493275</td>\n",
       "    </tr>\n",
       "    <tr>\n",
       "      <th>0.7</th>\n",
       "      <td>0.885961</td>\n",
       "      <td>0.759060</td>\n",
       "      <td>0.594806</td>\n",
       "      <td>0.535667</td>\n",
       "      <td>0.610740</td>\n",
       "      <td>0.615700</td>\n",
       "      <td>0.589610</td>\n",
       "      <td>0.640075</td>\n",
       "      <td>0.554499</td>\n",
       "      <td>0.592266</td>\n",
       "    </tr>\n",
       "    <tr>\n",
       "      <th>0.8</th>\n",
       "      <td>0.911064</td>\n",
       "      <td>0.787150</td>\n",
       "      <td>0.720217</td>\n",
       "      <td>0.702227</td>\n",
       "      <td>0.666815</td>\n",
       "      <td>0.601297</td>\n",
       "      <td>0.560365</td>\n",
       "      <td>0.655738</td>\n",
       "      <td>0.669456</td>\n",
       "      <td>0.534236</td>\n",
       "    </tr>\n",
       "    <tr>\n",
       "      <th>0.9</th>\n",
       "      <td>0.985747</td>\n",
       "      <td>0.913703</td>\n",
       "      <td>0.813786</td>\n",
       "      <td>0.722206</td>\n",
       "      <td>0.630752</td>\n",
       "      <td>0.694698</td>\n",
       "      <td>0.689531</td>\n",
       "      <td>0.742564</td>\n",
       "      <td>0.810000</td>\n",
       "      <td>0.648453</td>\n",
       "    </tr>\n",
       "    <tr>\n",
       "      <th>1.0</th>\n",
       "      <td>0.973693</td>\n",
       "      <td>0.939529</td>\n",
       "      <td>0.877714</td>\n",
       "      <td>0.757392</td>\n",
       "      <td>0.724177</td>\n",
       "      <td>0.633198</td>\n",
       "      <td>0.730873</td>\n",
       "      <td>0.708220</td>\n",
       "      <td>0.726387</td>\n",
       "      <td>0.601389</td>\n",
       "    </tr>\n",
       "  </tbody>\n",
       "</table>\n",
       "</div>"
      ],
      "text/plain": [
       "          0.1       0.2       0.3       0.4       0.5       0.6       0.7  \\\n",
       "0.1  0.633028  0.591463  0.153005  0.284708  0.563458  0.369123  0.304791   \n",
       "0.2  0.688119  0.321429  0.391026  0.914831  0.306097  0.415805  0.360162   \n",
       "0.3  0.665904  0.730600  0.943888  0.785340  0.383063  0.448708  0.458631   \n",
       "0.4  0.931987  0.818571  0.546036  0.622512  0.463393  0.520770  0.481531   \n",
       "0.5  0.655863  0.562500  0.568316  0.645227  0.563770  0.553932  0.627019   \n",
       "0.6  0.790613  0.335667  0.692726  0.586228  0.550035  0.537295  0.506215   \n",
       "0.7  0.885961  0.759060  0.594806  0.535667  0.610740  0.615700  0.589610   \n",
       "0.8  0.911064  0.787150  0.720217  0.702227  0.666815  0.601297  0.560365   \n",
       "0.9  0.985747  0.913703  0.813786  0.722206  0.630752  0.694698  0.689531   \n",
       "1.0  0.973693  0.939529  0.877714  0.757392  0.724177  0.633198  0.730873   \n",
       "\n",
       "          0.8       0.9       1.0  \n",
       "0.1  0.206323  0.268373  0.058412  \n",
       "0.2  0.321287  0.267038  0.217802  \n",
       "0.3  0.471003  0.463641  0.404683  \n",
       "0.4  0.515766  0.519464  0.395913  \n",
       "0.5  0.555358  0.561178  0.552814  \n",
       "0.6  0.499361  0.585101  0.493275  \n",
       "0.7  0.640075  0.554499  0.592266  \n",
       "0.8  0.655738  0.669456  0.534236  \n",
       "0.9  0.742564  0.810000  0.648453  \n",
       "1.0  0.708220  0.726387  0.601389  "
      ]
     },
     "execution_count": 73,
     "metadata": {},
     "output_type": "execute_result"
    }
   ],
   "source": [
    "emp_prob=pd.DataFrame(emp_prob,columns=np.arange(0.1,1.1,0.1),index=np.arange(0.1,1.1,0.1))\n",
    "emp_prob"
   ]
  },
  {
   "cell_type": "code",
   "execution_count": 74,
   "id": "0b26fd51-9004-4cc1-9e8c-04731e881e62",
   "metadata": {},
   "outputs": [
    {
     "data": {
      "text/html": [
       "<div>\n",
       "<style scoped>\n",
       "    .dataframe tbody tr th:only-of-type {\n",
       "        vertical-align: middle;\n",
       "    }\n",
       "\n",
       "    .dataframe tbody tr th {\n",
       "        vertical-align: top;\n",
       "    }\n",
       "\n",
       "    .dataframe thead th {\n",
       "        text-align: right;\n",
       "    }\n",
       "</style>\n",
       "<table border=\"1\" class=\"dataframe\">\n",
       "  <thead>\n",
       "    <tr style=\"text-align: right;\">\n",
       "      <th></th>\n",
       "      <th>0.1</th>\n",
       "      <th>0.2</th>\n",
       "      <th>0.3</th>\n",
       "      <th>0.4</th>\n",
       "      <th>0.5</th>\n",
       "      <th>0.6</th>\n",
       "      <th>0.7</th>\n",
       "      <th>0.8</th>\n",
       "      <th>0.9</th>\n",
       "      <th>1.0</th>\n",
       "    </tr>\n",
       "  </thead>\n",
       "  <tbody>\n",
       "    <tr>\n",
       "      <th>0.1</th>\n",
       "      <td>0.500000</td>\n",
       "      <td>0.109423</td>\n",
       "      <td>0.061434</td>\n",
       "      <td>0.042705</td>\n",
       "      <td>0.032727</td>\n",
       "      <td>0.026529</td>\n",
       "      <td>0.022305</td>\n",
       "      <td>0.019241</td>\n",
       "      <td>0.016917</td>\n",
       "      <td>0.015094</td>\n",
       "    </tr>\n",
       "    <tr>\n",
       "      <th>0.2</th>\n",
       "      <td>0.890577</td>\n",
       "      <td>0.500000</td>\n",
       "      <td>0.347568</td>\n",
       "      <td>0.266364</td>\n",
       "      <td>0.215917</td>\n",
       "      <td>0.181537</td>\n",
       "      <td>0.156601</td>\n",
       "      <td>0.137688</td>\n",
       "      <td>0.122851</td>\n",
       "      <td>0.110901</td>\n",
       "    </tr>\n",
       "    <tr>\n",
       "      <th>0.3</th>\n",
       "      <td>0.938566</td>\n",
       "      <td>0.652432</td>\n",
       "      <td>0.500000</td>\n",
       "      <td>0.405306</td>\n",
       "      <td>0.340768</td>\n",
       "      <td>0.293960</td>\n",
       "      <td>0.258459</td>\n",
       "      <td>0.230608</td>\n",
       "      <td>0.208176</td>\n",
       "      <td>0.189721</td>\n",
       "    </tr>\n",
       "    <tr>\n",
       "      <th>0.4</th>\n",
       "      <td>0.957295</td>\n",
       "      <td>0.733636</td>\n",
       "      <td>0.594694</td>\n",
       "      <td>0.500000</td>\n",
       "      <td>0.431320</td>\n",
       "      <td>0.379229</td>\n",
       "      <td>0.338365</td>\n",
       "      <td>0.305450</td>\n",
       "      <td>0.278372</td>\n",
       "      <td>0.255703</td>\n",
       "    </tr>\n",
       "    <tr>\n",
       "      <th>0.5</th>\n",
       "      <td>0.967273</td>\n",
       "      <td>0.784083</td>\n",
       "      <td>0.659232</td>\n",
       "      <td>0.568680</td>\n",
       "      <td>0.500000</td>\n",
       "      <td>0.446122</td>\n",
       "      <td>0.402725</td>\n",
       "      <td>0.367023</td>\n",
       "      <td>0.337136</td>\n",
       "      <td>0.311749</td>\n",
       "    </tr>\n",
       "    <tr>\n",
       "      <th>0.6</th>\n",
       "      <td>0.973471</td>\n",
       "      <td>0.818463</td>\n",
       "      <td>0.706040</td>\n",
       "      <td>0.620771</td>\n",
       "      <td>0.553878</td>\n",
       "      <td>0.500000</td>\n",
       "      <td>0.455674</td>\n",
       "      <td>0.418568</td>\n",
       "      <td>0.387050</td>\n",
       "      <td>0.359946</td>\n",
       "    </tr>\n",
       "    <tr>\n",
       "      <th>0.7</th>\n",
       "      <td>0.977695</td>\n",
       "      <td>0.843399</td>\n",
       "      <td>0.741541</td>\n",
       "      <td>0.661635</td>\n",
       "      <td>0.597275</td>\n",
       "      <td>0.544326</td>\n",
       "      <td>0.500000</td>\n",
       "      <td>0.462350</td>\n",
       "      <td>0.429973</td>\n",
       "      <td>0.401833</td>\n",
       "    </tr>\n",
       "    <tr>\n",
       "      <th>0.8</th>\n",
       "      <td>0.980759</td>\n",
       "      <td>0.862312</td>\n",
       "      <td>0.769392</td>\n",
       "      <td>0.694550</td>\n",
       "      <td>0.632977</td>\n",
       "      <td>0.581432</td>\n",
       "      <td>0.537650</td>\n",
       "      <td>0.500000</td>\n",
       "      <td>0.467278</td>\n",
       "      <td>0.438576</td>\n",
       "    </tr>\n",
       "    <tr>\n",
       "      <th>0.9</th>\n",
       "      <td>0.983083</td>\n",
       "      <td>0.877149</td>\n",
       "      <td>0.791824</td>\n",
       "      <td>0.721628</td>\n",
       "      <td>0.662864</td>\n",
       "      <td>0.612950</td>\n",
       "      <td>0.570027</td>\n",
       "      <td>0.532722</td>\n",
       "      <td>0.500000</td>\n",
       "      <td>0.471065</td>\n",
       "    </tr>\n",
       "    <tr>\n",
       "      <th>1.0</th>\n",
       "      <td>0.984906</td>\n",
       "      <td>0.889099</td>\n",
       "      <td>0.810279</td>\n",
       "      <td>0.744297</td>\n",
       "      <td>0.688251</td>\n",
       "      <td>0.640054</td>\n",
       "      <td>0.598167</td>\n",
       "      <td>0.561424</td>\n",
       "      <td>0.528935</td>\n",
       "      <td>0.500000</td>\n",
       "    </tr>\n",
       "  </tbody>\n",
       "</table>\n",
       "</div>"
      ],
      "text/plain": [
       "          0.1       0.2       0.3       0.4       0.5       0.6       0.7  \\\n",
       "0.1  0.500000  0.109423  0.061434  0.042705  0.032727  0.026529  0.022305   \n",
       "0.2  0.890577  0.500000  0.347568  0.266364  0.215917  0.181537  0.156601   \n",
       "0.3  0.938566  0.652432  0.500000  0.405306  0.340768  0.293960  0.258459   \n",
       "0.4  0.957295  0.733636  0.594694  0.500000  0.431320  0.379229  0.338365   \n",
       "0.5  0.967273  0.784083  0.659232  0.568680  0.500000  0.446122  0.402725   \n",
       "0.6  0.973471  0.818463  0.706040  0.620771  0.553878  0.500000  0.455674   \n",
       "0.7  0.977695  0.843399  0.741541  0.661635  0.597275  0.544326  0.500000   \n",
       "0.8  0.980759  0.862312  0.769392  0.694550  0.632977  0.581432  0.537650   \n",
       "0.9  0.983083  0.877149  0.791824  0.721628  0.662864  0.612950  0.570027   \n",
       "1.0  0.984906  0.889099  0.810279  0.744297  0.688251  0.640054  0.598167   \n",
       "\n",
       "          0.8       0.9       1.0  \n",
       "0.1  0.019241  0.016917  0.015094  \n",
       "0.2  0.137688  0.122851  0.110901  \n",
       "0.3  0.230608  0.208176  0.189721  \n",
       "0.4  0.305450  0.278372  0.255703  \n",
       "0.5  0.367023  0.337136  0.311749  \n",
       "0.6  0.418568  0.387050  0.359946  \n",
       "0.7  0.462350  0.429973  0.401833  \n",
       "0.8  0.500000  0.467278  0.438576  \n",
       "0.9  0.532722  0.500000  0.471065  \n",
       "1.0  0.561424  0.528935  0.500000  "
      ]
     },
     "execution_count": 74,
     "metadata": {},
     "output_type": "execute_result"
    }
   ],
   "source": [
    "mp=pd.DataFrame(mp,columns=np.arange(0.1,1.1,0.1),index=np.arange(0.1,1.1,0.1))\n",
    "mp"
   ]
  },
  {
   "cell_type": "code",
   "execution_count": 22,
   "id": "68b972d7-8d0b-4bb2-b3aa-318c8f21ba2c",
   "metadata": {},
   "outputs": [
    {
     "data": {
      "text/plain": [
       "array([1436., 2277., 3351., 4505., 5237., 5623., 5985., 6427., 6995.])"
      ]
     },
     "execution_count": 22,
     "metadata": {},
     "output_type": "execute_result"
    }
   ],
   "source": [
    "bid_boundaries"
   ]
  },
  {
   "cell_type": "code",
   "execution_count": 45,
   "id": "67b783ee-d9e7-4d09-9d73-57a5e9baa927",
   "metadata": {},
   "outputs": [],
   "source": [
    "td.loc[td['BIDSIZ_bucket']>1,'BIDSIZ_bucket']+=1"
   ]
  },
  {
   "cell_type": "code",
   "execution_count": 46,
   "id": "0ba0ca67-4fdd-45cf-b545-8b15c5527f3f",
   "metadata": {},
   "outputs": [],
   "source": [
    "td.loc[td['BIDSIZ_bucket']>3,'BIDSIZ_bucket']+=1"
   ]
  },
  {
   "cell_type": "code",
   "execution_count": 23,
   "id": "23c0bdef-3bc0-4dbb-b063-b1d669782069",
   "metadata": {},
   "outputs": [
    {
     "data": {
      "text/plain": [
       "array([1, 2, 0, 3, 4, 5, 6, 7, 8, 9])"
      ]
     },
     "execution_count": 23,
     "metadata": {},
     "output_type": "execute_result"
    }
   ],
   "source": [
    "td['BIDSIZ_bucket'].unique()"
   ]
  },
  {
   "cell_type": "code",
   "execution_count": 24,
   "id": "9e637495-2d00-43bb-89b1-fc0682f1048c",
   "metadata": {},
   "outputs": [
    {
     "data": {
      "text/plain": [
       "array([1112., 1808., 2508., 3445., 4541., 5279., 5770., 6125., 6669.])"
      ]
     },
     "execution_count": 24,
     "metadata": {},
     "output_type": "execute_result"
    }
   ],
   "source": [
    "ask_boundaries"
   ]
  },
  {
   "cell_type": "code",
   "execution_count": 49,
   "id": "9809fbef-cda1-44f2-9466-863e09ee3456",
   "metadata": {},
   "outputs": [],
   "source": [
    "td.loc[td['ASKSIZ_bucket']>1,'BIDSIZ_bucket']+=1\n",
    "td.loc[td['ASKSIZ_bucket']>3,'BIDSIZ_bucket']+=1"
   ]
  },
  {
   "cell_type": "code",
   "execution_count": 57,
   "id": "a74690d6-dcb7-42c5-b229-95cb514bb132",
   "metadata": {},
   "outputs": [
    {
     "data": {
      "text/plain": [
       "9          1.0\n",
       "49         1.0\n",
       "53        -1.0\n",
       "54         1.0\n",
       "55        -1.0\n",
       "          ... \n",
       "3182640   -1.0\n",
       "3182647   -1.0\n",
       "3182649   -1.0\n",
       "3182678   -1.0\n",
       "3182696   -1.0\n",
       "Name: Direction, Length: 39794, dtype: float64"
      ]
     },
     "execution_count": 57,
     "metadata": {},
     "output_type": "execute_result"
    }
   ],
   "source": [
    "actual_direction = directions[(bid_decile == 0) & (ask_decile == 0)]\n",
    "actual_direction"
   ]
  },
  {
   "cell_type": "code",
   "execution_count": 60,
   "id": "c80ba73b-8a8d-4819-ac32-4ed91e606487",
   "metadata": {},
   "outputs": [
    {
     "data": {
      "text/plain": [
       "0.502965271146404"
      ]
     },
     "execution_count": 60,
     "metadata": {},
     "output_type": "execute_result"
    }
   ],
   "source": [
    "(actual_direction == 1).mean()"
   ]
  },
  {
   "cell_type": "code",
   "execution_count": null,
   "id": "668c4726-857e-4c2a-a174-49db252715ca",
   "metadata": {},
   "outputs": [],
   "source": [
    "# split up data into exchanges\n",
    "data_nasdaq = jpm[jpm['EX'] == 'T']\n",
    "data_nyse = jpm[jpm['EX'] == 'P']\n",
    "data_arca = jpm[jpm['EX'] == 'Z']"
   ]
  },
  {
   "cell_type": "code",
   "execution_count": null,
   "id": "87f2d4cb-7ddf-436c-9d1a-f1a952a7c1ef",
   "metadata": {},
   "outputs": [],
   "source": [
    "data_nasdaq = xlf[xlf['EX'] == 'T']\n",
    "generate_empirical_probabilties(data_nasdaq)"
   ]
  },
  {
   "cell_type": "code",
   "execution_count": null,
   "id": "4871c799-8b17-4808-bf86-7aeed9858220",
   "metadata": {},
   "outputs": [],
   "source": [
    "generate_empirical_probabilties(qqqq)"
   ]
  },
  {
   "cell_type": "markdown",
   "id": "723626b0-4e65-475e-9f88-1f23d3d134bb",
   "metadata": {},
   "source": [
    "Bid on x-axis and ask on y-axis"
   ]
  },
  {
   "cell_type": "code",
   "execution_count": null,
   "id": "553e62d5-f5c3-4e74-bf1a-7da973de4153",
   "metadata": {},
   "outputs": [],
   "source": []
  },
  {
   "cell_type": "code",
   "execution_count": null,
   "id": "fc509620-6843-4b62-a421-106aac40a2dc",
   "metadata": {},
   "outputs": [],
   "source": []
  }
 ],
 "metadata": {
  "kernelspec": {
   "display_name": "mfe230e",
   "language": "python",
   "name": "mfe230e"
  },
  "language_info": {
   "codemirror_mode": {
    "name": "ipython",
    "version": 3
   },
   "file_extension": ".py",
   "mimetype": "text/x-python",
   "name": "python",
   "nbconvert_exporter": "python",
   "pygments_lexer": "ipython3",
   "version": "3.11.5"
  }
 },
 "nbformat": 4,
 "nbformat_minor": 5
}
