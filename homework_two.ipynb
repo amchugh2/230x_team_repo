{
 "cells": [
  {
   "cell_type": "code",
   "execution_count": 3,
   "id": "b5b9ba5b",
   "metadata": {},
   "outputs": [],
   "source": [
    "import pandas as pd\n",
    "import numpy as np\n"
   ]
  },
  {
   "cell_type": "code",
   "execution_count": 4,
   "id": "31d475f1",
   "metadata": {},
   "outputs": [],
   "source": [
    "# MBP Schema\n",
    "mbp_csv = pd.read_csv('xnas-itch-20240822.mbp-1.csv', parse_dates=['ts_recv', 'ts_event'])\n",
    "\n",
    "nvda_mbp = mbp_csv[mbp_csv['symbol'] == 'NVDA'].copy()\n",
    "cake_mbp = mbp_csv[mbp_csv['symbol'] == 'CAKE'].copy()"
   ]
  },
  {
   "cell_type": "code",
   "execution_count": 5,
   "id": "945d6b3a",
   "metadata": {},
   "outputs": [],
   "source": [
    "# get tick-by-tick log middle price\n",
    "\n",
    "# Calculate the log-arithmetic middle price\n",
    "nvda_mbp['log_arith_middle_price'] = (np.log(nvda_mbp['bid_px_00']) + np.log(nvda_mbp['ask_px_00'])) / 2\n",
    "cake_mbp['log_arith_middle_price'] = (np.log(cake_mbp['bid_px_00']) + np.log(cake_mbp['ask_px_00'])) / 2\n"
   ]
  },
  {
   "cell_type": "code",
   "execution_count": 16,
   "id": "292ce7a1",
   "metadata": {},
   "outputs": [],
   "source": [
    "# set parameters\n",
    "\n",
    "# total number of tick observations\n",
    "# for ten minute intervals, n = 60 * 10\n",
    "n = 600 \n",
    "# number of subsamples per ten minute interval (chosen at will)\n",
    "K = 20\n",
    "# total sampling length - number minutes\n",
    "# 8 hours in a trading day - 8 * 60\n",
    "T = 60"
   ]
  },
  {
   "cell_type": "code",
   "execution_count": 19,
   "id": "b3c97ec2",
   "metadata": {},
   "outputs": [
    {
     "ename": "UnboundLocalError",
     "evalue": "cannot access local variable 'log_returns_series' where it is not associated with a value",
     "output_type": "error",
     "traceback": [
      "\u001b[0;31m---------------------------------------------------------------------------\u001b[0m",
      "\u001b[0;31mUnboundLocalError\u001b[0m                         Traceback (most recent call last)",
      "Cell \u001b[0;32mIn[19], line 72\u001b[0m\n\u001b[1;32m     67\u001b[0m         tsrvs\u001b[38;5;241m.\u001b[39mappend((time_interval, tsrv))\n\u001b[1;32m     69\u001b[0m     \u001b[38;5;28;01mreturn\u001b[39;00m tsrvs\n\u001b[0;32m---> 72\u001b[0m nvda_tsrvs \u001b[38;5;241m=\u001b[39m compute_timed_tsrvs(nvda_mbp, K, n, \u001b[38;5;241m10\u001b[39m)\n\u001b[1;32m     74\u001b[0m \u001b[38;5;28mprint\u001b[39m(\u001b[38;5;124m\"\u001b[39m\u001b[38;5;124m10 min TSRV for NVDA: \u001b[39m\u001b[38;5;124m\"\u001b[39m, np\u001b[38;5;241m.\u001b[39mmean(nvda_tsrvs))\n\u001b[1;32m     76\u001b[0m cake_tsrvs \u001b[38;5;241m=\u001b[39m compute_timed_tsrvs(cake_mbp, K, n, \u001b[38;5;241m10\u001b[39m)\n",
      "Cell \u001b[0;32mIn[19], line 55\u001b[0m, in \u001b[0;36mcompute_timed_tsrvs\u001b[0;34m(df, K, n, minute)\u001b[0m\n\u001b[1;32m     52\u001b[0m \u001b[38;5;28;01mif\u001b[39;00m \u001b[38;5;28mlen\u001b[39m(data) \u001b[38;5;241m<\u001b[39m n:\n\u001b[1;32m     53\u001b[0m     \u001b[38;5;28;01mcontinue\u001b[39;00m\n\u001b[0;32m---> 55\u001b[0m \u001b[38;5;28;01mif\u001b[39;00m \u001b[38;5;28mlen\u001b[39m(log_returns_series) \u001b[38;5;241m<\u001b[39m n:\n\u001b[1;32m     56\u001b[0m     \u001b[38;5;28;01mcontinue\u001b[39;00m\n\u001b[1;32m     58\u001b[0m \u001b[38;5;28mprint\u001b[39m(data[\u001b[38;5;124m'\u001b[39m\u001b[38;5;124mlog_arith_middle_price\u001b[39m\u001b[38;5;124m'\u001b[39m]\u001b[38;5;241m.\u001b[39mvalues[:n])\n",
      "\u001b[0;31mUnboundLocalError\u001b[0m: cannot access local variable 'log_returns_series' where it is not associated with a value"
     ]
    }
   ],
   "source": [
    "# [X, X]^K_T\n",
    "def compute_subsampled_variance(log_returns, K, n):\n",
    "    subsampled_variance = 0\n",
    "    log_returns = list(log_returns)\n",
    "    \n",
    "    for i in range(n - K + 1):\n",
    "        pt1 = log_returns[i + K]\n",
    "        pt2 = log_returns[i]\n",
    "        subsampled_variance += (pt1 - pt2)**2\n",
    "        \n",
    "    subsampled_variance /= K\n",
    "    return subsampled_variance\n",
    "\n",
    "\n",
    "# [X, X]^{All}_T\n",
    "def compute_full_sample_variance(log_returns, n):\n",
    "    full_sample_variance = 0\n",
    "    log_returns = list(log_returns)\n",
    "\n",
    "    for i in range(n - 1):\n",
    "        \n",
    "        pt1 = log_returns[i+1]\n",
    "        pt2 = log_returns[i]\n",
    "        \n",
    "        full_sample_variance += (pt1 - pt2) ** 2\n",
    "        \n",
    "    return full_sample_variance\n",
    "\n",
    "full_sample_variance = compute_full_sample_variance(nvda_mbp['log_arith_middle_price'], n)\n",
    "\n",
    "\n",
    "# z\n",
    "z = (n - K + 1) / K\n",
    "\n",
    "\n",
    "# TSRV^{(10m)}_t\n",
    "def compute_TSRV(subsampled_variance, full_sample_variance, z, n):\n",
    "    tsrv = (1 - z / n) ** -1 * (subsampled_variance - (z / n) * full_sample_variance)\n",
    "    return tsrv\n",
    "\n",
    "\n",
    "def compute_timed_tsrvs(df, K, n, minute):\n",
    "    \n",
    "    tsrvs = []\n",
    "    z = (n - K + 1) / K\n",
    "\n",
    "    resampling_index = str(minute) + 'T'\n",
    "    df_resampled = df.set_index('ts_event').resample(resampling_index)\n",
    "    \n",
    "    for time_interval, data in df_resampled:\n",
    "\n",
    "        if len(data) < n:\n",
    "            continue\n",
    "        \n",
    "        if len(log_returns_series) < n:\n",
    "            continue\n",
    "        \n",
    "        log_returns_series = data['log_arith_middle_price'].values[:n]  # Take the first `n` observations\n",
    "        log_returns_interval = list(log_returns_series)\n",
    "        \n",
    "        # Compute TSRV for the n-minute interval\n",
    "        subsampled_variance = compute_subsampled_variance(log_returns_interval, K, n)\n",
    "        full_sample_variance = compute_full_sample_variance(log_returns_interval, n)\n",
    "        tsrv = compute_TSRV(subsampled_variance, full_sample_variance, z, n)\n",
    "\n",
    "        tsrvs.append((time_interval, tsrv))\n",
    "        \n",
    "    return tsrvs\n",
    "\n",
    "\n",
    "nvda_tsrvs = compute_timed_tsrvs(nvda_mbp, K, n, 10)\n",
    "\n",
    "print(\"10 min TSRV for NVDA: \", np.mean(nvda_tsrvs))\n",
    "\n",
    "cake_tsrvs = compute_timed_tsrvs(cake_mbp, K, n, 10)\n",
    "\n",
    "print(\"10 min TSRV for CAKE: \", np.mean(cake_tsrvs))\n",
    "\n"
   ]
  },
  {
   "cell_type": "code",
   "execution_count": null,
   "id": "43e28fd7",
   "metadata": {},
   "outputs": [],
   "source": [
    "\n"
   ]
  },
  {
   "cell_type": "code",
   "execution_count": null,
   "id": "9ade26f0",
   "metadata": {},
   "outputs": [],
   "source": []
  }
 ],
 "metadata": {
  "kernelspec": {
   "display_name": "Python 3 (ipykernel)",
   "language": "python",
   "name": "python3"
  },
  "language_info": {
   "codemirror_mode": {
    "name": "ipython",
    "version": 3
   },
   "file_extension": ".py",
   "mimetype": "text/x-python",
   "name": "python",
   "nbconvert_exporter": "python",
   "pygments_lexer": "ipython3",
   "version": "3.11.5"
  }
 },
 "nbformat": 4,
 "nbformat_minor": 5
}
