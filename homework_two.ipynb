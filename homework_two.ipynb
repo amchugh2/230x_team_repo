{
 "cells": [
  {
   "cell_type": "code",
   "execution_count": 1,
   "id": "3f0a3a63",
   "metadata": {},
   "outputs": [],
   "source": [
    "import pandas as pd\n",
    "import numpy as np\n"
   ]
  },
  {
   "cell_type": "code",
   "execution_count": 2,
   "id": "1ac1af50",
   "metadata": {},
   "outputs": [],
   "source": [
    "# MBP Schema\n",
    "mbp_csv = pd.read_csv('xnas-itch-20240822.mbp-1.csv', parse_dates=['ts_recv', 'ts_event'])\n",
    "\n",
    "nvda_mbp = mbp_csv[mbp_csv['symbol'] == 'NVDA'].copy()\n",
    "cake_mbp = mbp_csv[mbp_csv['symbol'] == 'CAKE'].copy()"
   ]
  },
  {
   "cell_type": "code",
   "execution_count": 3,
   "id": "6b0d383d",
   "metadata": {},
   "outputs": [],
   "source": [
    "# get tick-by-tick log middle price\n",
    "\n",
    "# Calculate the log-arithmetic middle price\n",
    "nvda_mbp['log_arith_middle_price'] = (np.log(nvda_mbp['bid_px_00']) + np.log(nvda_mbp['ask_px_00'])) / 2\n",
    "cake_mbp['log_arith_middle_price'] = (np.log(cake_mbp['bid_px_00']) + np.log(cake_mbp['ask_px_00'])) / 2\n"
   ]
  },
  {
   "cell_type": "code",
   "execution_count": 8,
   "id": "f3f441f1",
   "metadata": {},
   "outputs": [],
   "source": [
    "# set parameters\n",
    "\n",
    "# total number of tick observations\n",
    "# for ten minute intervals, n = 60 * 10\n",
    "n = 60 * 10\n",
    "# number of subsamples per ten minute interval (chosen at will)\n",
    "K = 20\n",
    "# total sampling length - number minutesm - total trading day\n",
    "T = 8 * 60"
   ]
  },
  {
   "cell_type": "code",
   "execution_count": 9,
   "id": "c4caf175",
   "metadata": {},
   "outputs": [
    {
     "name": "stdout",
     "output_type": "stream",
     "text": [
      "10 min TSRV for NVDA:  -5.59341605974833e-08\n",
      "10 min TSRV for CAKE:  -2.0155719661495228e-07\n"
     ]
    }
   ],
   "source": [
    "# [X, X]^K_T\n",
    "def compute_subsampled_variance(log_returns, K, n):\n",
    "    subsampled_variance = 0\n",
    "    \n",
    "    log_returns = list(log_returns)\n",
    "    \n",
    "    for i in range(n - K + 1):\n",
    "        pt1 = log_returns[i + K]\n",
    "        pt2 = log_returns[i]\n",
    "        subsampled_variance += (pt1 - pt2)**2\n",
    "        \n",
    "    subsampled_variance /= K\n",
    "    return subsampled_variance\n",
    "\n",
    "\n",
    "# [X, X]^{All}_T\n",
    "def compute_full_sample_variance(log_returns, n):\n",
    "    full_sample_variance = 0\n",
    "    log_returns = list(log_returns)\n",
    "\n",
    "    for i in range(n - 1):\n",
    "        \n",
    "        pt1 = log_returns[i+1]\n",
    "        pt2 = log_returns[i]\n",
    "        \n",
    "        full_sample_variance += (pt1 - pt2) ** 2\n",
    "        \n",
    "    return full_sample_variance\n",
    "\n",
    "full_sample_variance = compute_full_sample_variance(nvda_mbp['log_arith_middle_price'], n)\n",
    "\n",
    "\n",
    "# z\n",
    "z = (n - K + 1) / K\n",
    "\n",
    "\n",
    "# TSRV^{(10m)}_t\n",
    "def compute_TSRV(subsampled_variance, full_sample_variance, z, n):\n",
    "    tsrv = (1 - z / n) ** -1 * (subsampled_variance - (z / n) * full_sample_variance)\n",
    "    return tsrv\n",
    "\n",
    "\n",
    "def compute_timed_tsrvs(df, K, n, interval):\n",
    "    \n",
    "    tsrvs = []\n",
    "    z = (n - K + 1) / K\n",
    "    \n",
    "    if interval == 10:\n",
    "        resample = '10T'\n",
    "    elif interval == 30:\n",
    "        resample = '30T'\n",
    "    else:\n",
    "        resample = '60T'\n",
    "        \n",
    "    df_resampled = df.set_index('ts_event').resample(resample)\n",
    "    \n",
    "    for time_interval, data in df_resampled:\n",
    "\n",
    "        if len(data) < n:\n",
    "            continue\n",
    "        \n",
    "        log_returns_series = data['log_arith_middle_price'].values[:n]\n",
    "        \n",
    "        # Compute TSRV for the n-minute interval\n",
    "        subsampled_variance = compute_subsampled_variance(log_returns_series, n, K)\n",
    "        full_sample_variance = compute_full_sample_variance(log_returns_series, n)\n",
    "        tsrv = compute_TSRV(subsampled_variance, full_sample_variance, z, n)\n",
    "\n",
    "        tsrvs.append(tsrv)\n",
    "        \n",
    "    return tsrvs\n",
    "\n",
    "\n",
    "nvda_tsrvs = compute_timed_tsrvs(nvda_mbp, K, n, 10)\n",
    "\n",
    "print(\"10 min TSRV for NVDA: \", np.mean(nvda_tsrvs))\n",
    "\n",
    "cake_tsrvs = compute_timed_tsrvs(cake_mbp, K, n, 10)\n",
    "\n",
    "print(\"10 min TSRV for CAKE: \", np.mean(cake_tsrvs))\n",
    "\n"
   ]
  },
  {
   "cell_type": "code",
   "execution_count": null,
   "id": "0e54d827",
   "metadata": {},
   "outputs": [],
   "source": [
    "# reset n since 30m\n",
    "\n",
    "#nvda_tsrvs = compute_timed_tsrvs(nvda_mbp, K, n, 30)\n",
    "\n",
    "#print(\"10 min TSRV for NVDA: \", np.mean(nvda_tsrvs))\n",
    "\n",
    "#cake_tsrvs = compute_timed_tsrvs(cake_mbp, K, n, 30)\n",
    "\n",
    "#print(\"10 min TSRV for CAKE: \", np.mean(cake_tsrvs))\n",
    "\n"
   ]
  },
  {
   "cell_type": "code",
   "execution_count": null,
   "id": "2e67258c",
   "metadata": {},
   "outputs": [],
   "source": []
  },
  {
   "cell_type": "code",
   "execution_count": null,
   "id": "8a5cbac7",
   "metadata": {},
   "outputs": [],
   "source": []
  }
 ],
 "metadata": {
  "kernelspec": {
   "display_name": "Python 3 (ipykernel)",
   "language": "python",
   "name": "python3"
  },
  "language_info": {
   "codemirror_mode": {
    "name": "ipython",
    "version": 3
   },
   "file_extension": ".py",
   "mimetype": "text/x-python",
   "name": "python",
   "nbconvert_exporter": "python",
   "pygments_lexer": "ipython3",
   "version": "3.11.5"
  }
 },
 "nbformat": 4,
 "nbformat_minor": 5
}
