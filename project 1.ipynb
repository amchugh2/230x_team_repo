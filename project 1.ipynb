{
 "cells": [
  {
   "cell_type": "code",
   "execution_count": 1,
   "id": "85a6c225-8666-433e-825d-04860658289a",
   "metadata": {},
   "outputs": [],
   "source": [
    "import pandas as pd\n",
    "import numpy as np"
   ]
  },
  {
   "cell_type": "code",
   "execution_count": 4,
   "id": "172f28f5-47f2-4e19-be99-cbcc3ca3f069",
   "metadata": {},
   "outputs": [],
   "source": [
    "d1=pd.read_csv('equity-data/xnas-itch-20240801.tbbo.csv',parse_dates=['ts_recv','ts_event'])"
   ]
  },
  {
   "cell_type": "code",
   "execution_count": 12,
   "id": "a3079ad4-59bc-419f-b52e-f7fe64898ce8",
   "metadata": {},
   "outputs": [],
   "source": [
    "nvda=d1[d1['symbol']=='NVDA'].set_index('ts_event')\n",
    "cake=d1[d1['symbol']=='CAKE'].set_index('ts_event')"
   ]
  },
  {
   "cell_type": "code",
   "execution_count": 13,
   "id": "d32c3d9f-1570-4e5a-910c-745f9702fbe0",
   "metadata": {},
   "outputs": [
    {
     "data": {
      "text/plain": [
       "ts_recv          False\n",
       "rtype            False\n",
       "publisher_id     False\n",
       "instrument_id    False\n",
       "action           False\n",
       "side             False\n",
       "depth            False\n",
       "price            False\n",
       "size             False\n",
       "flags            False\n",
       "ts_in_delta      False\n",
       "sequence         False\n",
       "bid_px_00        False\n",
       "ask_px_00        False\n",
       "bid_sz_00        False\n",
       "ask_sz_00        False\n",
       "bid_ct_00        False\n",
       "ask_ct_00        False\n",
       "symbol           False\n",
       "dtype: bool"
      ]
     },
     "execution_count": 13,
     "metadata": {},
     "output_type": "execute_result"
    }
   ],
   "source": [
    "nvda.isna().any()"
   ]
  },
  {
   "cell_type": "code",
   "execution_count": 14,
   "id": "80d62d5f-7c35-4b60-9ea2-dbb4e627fc64",
   "metadata": {},
   "outputs": [],
   "source": [
    "nvda_bbo=nvda.resample('100ms').last()"
   ]
  },
  {
   "cell_type": "code",
   "execution_count": 21,
   "id": "ecaf38c1-deb7-4cbe-81bf-603b0abf90e9",
   "metadata": {},
   "outputs": [
    {
     "data": {
      "text/plain": [
       "0.781195581027517"
      ]
     },
     "execution_count": 21,
     "metadata": {},
     "output_type": "execute_result"
    }
   ],
   "source": [
    "nvda_bbo.isna().sum().iloc[0]/nvda_bbo.shape[0]"
   ]
  },
  {
   "cell_type": "code",
   "execution_count": null,
   "id": "9220b991-ef9e-4ebd-a00c-6c87b0ac73f1",
   "metadata": {},
   "outputs": [],
   "source": []
  }
 ],
 "metadata": {
  "kernelspec": {
   "display_name": "mfe230e",
   "language": "python",
   "name": "mfe230e"
  },
  "language_info": {
   "codemirror_mode": {
    "name": "ipython",
    "version": 3
   },
   "file_extension": ".py",
   "mimetype": "text/x-python",
   "name": "python",
   "nbconvert_exporter": "python",
   "pygments_lexer": "ipython3",
   "version": "3.11.5"
  }
 },
 "nbformat": 4,
 "nbformat_minor": 5
}
