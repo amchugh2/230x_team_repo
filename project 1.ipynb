{
 "cells": [
  {
   "cell_type": "code",
   "execution_count": 1,
   "id": "85a6c225-8666-433e-825d-04860658289a",
   "metadata": {},
   "outputs": [],
   "source": [
    "import pandas as pd\n",
    "import numpy as np\n",
    "from tqdm import tqdm\n",
    "import warnings\n",
    "warnings.filterwarnings(\"ignore\")"
   ]
  },
  {
   "cell_type": "code",
   "execution_count": null,
   "id": "025ed679",
   "metadata": {},
   "outputs": [],
   "source": [
    "def generate_signal(df):\n",
    "    #Write the signal here\n",
    "    df['signal']=[1]*len(df)\n",
    "    # df['signal'].iloc[::10000]=0\n",
    "    \n",
    "    #Set the last signal to 0 so that we close position at the end of the day\n",
    "    df['signal'].iloc[-1]=0\n",
    "    return df"
   ]
  },
  {
   "cell_type": "code",
   "execution_count": null,
   "id": "b1ced212",
   "metadata": {},
   "outputs": [],
   "source": [
    "import os\n",
    "\n",
    "# Directory containing the CSV files\n",
    "directory = 'equity-data'\n",
    "bbo_cols=['bid_px_00', 'ask_px_00', 'bid_sz_00', 'ask_sz_00', 'bid_ct_00','ask_ct_00', 'symbol']\n",
    "cumulative_returns = pd.Series()\n",
    "# Loop through all files in the directory\n",
    "for filename in os.listdir(directory):\n",
    "    if filename.endswith('.csv'):\n",
    "        filepath = os.path.join(directory, filename)\n",
    "        print(f\"Processing {filename}\")\n",
    "        df = pd.read_csv(filepath, parse_dates=['ts_recv', 'ts_event'])\n",
    "        print(f\"Processed {filename}\")\n",
    "        # Perform any additional processing on df here\n",
    "        nvda_bbo=d1[d1['symbol']=='NVDA'].set_index('ts_event').resample('100ms').last().ffill()\n",
    "        nvda_bbo['signal']=generate_signal(nvda_bbo)\n",
    "        nvda_bbo['return']=0\n",
    "\n",
    "        #backtesting\n",
    "        zero_indices = nvda_bbo[(nvda_bbo['signal'] == 0) & (nvda_bbo['signal'].shift(1).fillna(0)!= 0)].index\n",
    "\n",
    "        for zero_index in tqdm(zero_indices):\n",
    "        # Find the last zero index behind the set of non-zero values\n",
    "            last_zero_index = nvda_bbo.loc[:zero_index-pd.Timedelta(milliseconds=100)][nvda_bbo['signal'] == 0].index[-1]\n",
    "            #print(last_zero_index)\n",
    "            first_buy_index = last_zero_index + pd.Timedelta(milliseconds=100)\n",
    "            #print(first_buy_index)\n",
    "            if first_buy_index in nvda_bbo.index:\n",
    "                first_buy_price = nvda_bbo.loc[first_buy_index, 'ask_px_00']\n",
    "                sell_price = nvda_bbo.loc[zero_index, 'bid_px_00']\n",
    "                nvda_bbo.loc[zero_index, 'return'] = ((sell_price - first_buy_price) / first_buy_price)\n",
    "\n",
    "        nvda_bbo['cumulative_return'] = (nvda_bbo['return']).cumsum()\n",
    "        cumulative_returns=pd.concat([cumulative_returns,nvda_bbo['cumulative_return']])\n",
    "        "
   ]
  }
 ],
 "metadata": {
  "kernelspec": {
   "display_name": "mfe230e",
   "language": "python",
   "name": "python3"
  },
  "language_info": {
   "codemirror_mode": {
    "name": "ipython",
    "version": 3
   },
   "file_extension": ".py",
   "mimetype": "text/x-python",
   "name": "python",
   "nbconvert_exporter": "python",
   "pygments_lexer": "ipython3",
   "version": "3.11.8"
  }
 },
 "nbformat": 4,
 "nbformat_minor": 5
}
