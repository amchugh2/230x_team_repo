{
 "cells": [
  {
   "cell_type": "code",
   "execution_count": 2,
   "id": "85a6c225-8666-433e-825d-04860658289a",
   "metadata": {},
   "outputs": [],
   "source": [
    "import pandas as pd\n",
    "import numpy as np\n",
    "from tqdm import tqdm\n",
    "import warnings\n",
    "import os\n",
    "warnings.filterwarnings(\"ignore\")"
   ]
  },
  {
   "cell_type": "code",
   "execution_count": 6,
   "id": "d1ea7205-21de-4963-b3b1-8c59ec9adc10",
   "metadata": {},
   "outputs": [],
   "source": [
    "def process_csv_files(directory, ticker):\n",
    "    \"\"\"\n",
    "    Convert input csv to dataframes and prepare to process through trading signal.\n",
    "\n",
    "    directory (String): Name of directory that contains list of csv files.\n",
    "    \n",
    "    return (list[DataFrame]): List of pandas DataFrames, one for each trading day.\n",
    "    \"\"\"\n",
    "    \n",
    "    # Directory containing the CSV files\n",
    "    bbo_cols=['bid_px_00', 'ask_px_00', 'bid_sz_00', 'ask_sz_00', 'bid_ct_00','ask_ct_00', 'symbol']\n",
    "\n",
    "    ret = []\n",
    "    \n",
    "    # Loop through all files in the directory and convert csv to df\n",
    "    for filename in os.listdir(directory):\n",
    "        \n",
    "        if filename.endswith('.csv'):\n",
    "            filepath = os.path.join(directory, filename)\n",
    "            try:\n",
    "                print(f\"Processing {filename}\")\n",
    "                df = pd.read_csv(filepath, parse_dates=['ts_recv', 'ts_event'])\n",
    "                print(f\"Processed {filename}\\n\")\n",
    "            except Exception as e:\n",
    "                print(f\"Error processing {filename}\\n\")\n",
    "                continue\n",
    "                \n",
    "            # Data cleaning and processing - resample to 100ms as per assignment description\n",
    "            bbo_df = df[df['symbol']==ticker].set_index('ts_event').resample('100ms').last().ffill()\n",
    "            ret.append(bbo_df)\n",
    "            \n",
    "    return ret\n",
    "        "
   ]
  },
  {
   "cell_type": "code",
   "execution_count": 8,
   "id": "8e6af0dd-113c-478b-a31e-499ef2751456",
   "metadata": {},
   "outputs": [
    {
     "name": "stdout",
     "output_type": "stream",
     "text": [
      "Processing xnas-itch-20240826.mbp-1.csv\n",
      "Processed xnas-itch-20240826.mbp-1.csv\n",
      "Processing xnas-itch-20240807.mbp-1.csv\n",
      "Processed xnas-itch-20240807.mbp-1.csv\n",
      "Processing xnas-itch-20240813.mbp-1.csv\n",
      "Processed xnas-itch-20240813.mbp-1.csv\n",
      "Processing xnas-itch-20240801.mbp-1.csv\n",
      "Processed xnas-itch-20240801.mbp-1.csv\n",
      "Processing xnas-itch-20240815.mbp-1.csv\n",
      "Processed xnas-itch-20240815.mbp-1.csv\n",
      "Processing xnas-itch-20240820.mbp-1.csv\n",
      "Processed xnas-itch-20240820.mbp-1.csv\n",
      "Processing xnas-itch-20240827.mbp-1.csv\n",
      "Processed xnas-itch-20240827.mbp-1.csv\n",
      "Processing xnas-itch-20240812.mbp-1.csv\n",
      "Processed xnas-itch-20240812.mbp-1.csv\n",
      "Processing xnas-itch-20240806.mbp-1.csv\n",
      "Processed xnas-itch-20240806.mbp-1.csv\n",
      "Processing xnas-itch-20240819.mbp-1.csv\n",
      "Processed xnas-itch-20240819.mbp-1.csv\n",
      "Processing xnas-itch-20240814.mbp-1.csv\n",
      "Processed xnas-itch-20240814.mbp-1.csv\n",
      "Processing xnas-itch-20240821.mbp-1.csv\n",
      "Processed xnas-itch-20240821.mbp-1.csv\n",
      "Processing xnas-itch-20240808.mbp-1.csv\n",
      "Processed xnas-itch-20240808.mbp-1.csv\n",
      "Processing xnas-itch-20240829.mbp-1.csv\n",
      "Processed xnas-itch-20240829.mbp-1.csv\n",
      "Processing xnas-itch-20240805.mbp-1.csv\n",
      "Processed xnas-itch-20240805.mbp-1.csv\n",
      "Processing xnas-itch-20240830.mbp-1.csv\n",
      "Processed xnas-itch-20240830.mbp-1.csv\n",
      "Processing xnas-itch-20240822.mbp-1.csv\n",
      "Processed xnas-itch-20240822.mbp-1.csv\n",
      "Processing xnas-itch-20240809.mbp-1.csv\n",
      "Processed xnas-itch-20240809.mbp-1.csv\n",
      "Processing xnas-itch-20240828.mbp-1.csv\n",
      "Processed xnas-itch-20240828.mbp-1.csv\n",
      "Processing xnas-itch-20240823.mbp-1.csv\n",
      "Processed xnas-itch-20240823.mbp-1.csv\n",
      "Processing xnas-itch-20240816.mbp-1.csv\n",
      "Processed xnas-itch-20240816.mbp-1.csv\n",
      "Processing xnas-itch-20240802.mbp-1.csv\n",
      "Processed xnas-itch-20240802.mbp-1.csv\n"
     ]
    }
   ],
   "source": [
    "dfs = process_csv_files('equity-data', 'ANF')"
   ]
  },
  {
   "cell_type": "code",
   "execution_count": 103,
   "id": "efc13649-fbaa-450d-9b86-441795d8f6cd",
   "metadata": {},
   "outputs": [],
   "source": [
    "def moving_average_signal(df, short_window, long_window, b):\n",
    "    \"\"\"\n",
    "    Generate trading signals based on moving average cross-over strategy.\n",
    "\n",
    "    prices (Series): asset prices\n",
    "    short_window (int): Window size for the short-term moving average\n",
    "    long_window (int): Window size for the long-term moving average\n",
    "    b (int): Bandwidth parameter that determines the buy/sell thresholds\n",
    "    return (Series): Series with trading signals (+1 for buy, -1 for sell, 0 for hold)\n",
    "    \"\"\"\n",
    "\n",
    "    # Create midprice column (average of bid and ask prices)\n",
    "    mid_price = (df['bid_px_00'] + df['ask_px_00']) / 2\n",
    "    \n",
    "    # Calculate short-term and long-term moving averages\n",
    "    short_ma = mid_price.rolling(window=short_window).mean()\n",
    "    long_ma = mid_price.rolling(window=long_window).mean()\n",
    "    \n",
    "    # Define thresholds\n",
    "    upper_threshold = (1 + b) * long_ma\n",
    "    lower_threshold = (1 - b) * long_ma\n",
    "    \n",
    "    signal = pd.Series(0, index=df.index)\n",
    "\n",
    "    # It's not hitting either of these for some reason\n",
    "    \n",
    "    # Generate buy signals (+1 where short_ma > upper_threshold)\n",
    "    signal[short_ma > upper_threshold] = 1\n",
    "    \n",
    "    # Generate sell signals (-1 where short_ma < lower_threshold)\n",
    "    signal[short_ma < lower_threshold] = -1\n",
    "\n",
    "    trade_signals = signal[signal != 0]\n",
    "    print(\"Trade Signals (Buy/Sell):\\n\", trade_signals)\n",
    "\n",
    "    return signal\n",
    "\n"
   ]
  },
  {
   "cell_type": "code",
   "execution_count": 104,
   "id": "025ed679",
   "metadata": {},
   "outputs": [],
   "source": [
    "def execute_trading_signal(bbo_df, signal, order_size=1e6):\n",
    "    \"\"\"\n",
    "    Execute the trading signal based on the available order book depth and calculate actual P&L.\n",
    "\n",
    "    bbo_df (DataFrame) : DataFrame containing the order book and signals for each day.\n",
    "    order_size: Size of the order (e.g., $1M)\n",
    "    :return: DataFrame with actual P&L calculated for each signal\n",
    "    \"\"\"\n",
    "\n",
    "    # Resample for 100ms\n",
    "        \n",
    "    # Initialize return\n",
    "    bbo_df['return'] = 0\n",
    "    \n",
    "    # Identify zero indices for sell signals (signal turns 0 after non-zero)\n",
    "    zero_indices = bbo_df[(bbo_df['signal'] == 0) & \n",
    "                            (bbo_df['signal'].shift(1).fillna(0) != 0)].index\n",
    "    \n",
    "    # Backtesting loop for calculating PnL\n",
    "    for zero_index in zero_indices:\n",
    "        last_zero_index = bbo_df.loc[:zero_index - pd.Timedelta(milliseconds=100)][bbo_df['signal'] == 0].index[-1]\n",
    "        first_buy_index = last_zero_index + pd.Timedelta(milliseconds=100)\n",
    "        \n",
    "        if first_buy_index in bbo_df.index:\n",
    "            # Prices during buy and sell\n",
    "            first_buy_ask_price = bbo_df.loc[first_buy_index, 'ask_px_00']  # ask price at buy time\n",
    "            sell_bid_price = bbo_df.loc[zero_index, 'bid_px_00']  # bid price at sell time\n",
    "            \n",
    "            # Calculate buy return\n",
    "            buy_return = (sell_bid_price - first_buy_ask_price) / first_buy_ask_price\n",
    "            \n",
    "            # Calculate sell return\n",
    "            first_buy_bid_price = bbo_df.loc[first_buy_index, 'bid_px_00']  # bid price at buy time\n",
    "            sell_ask_price = bbo_df.loc[zero_index, 'ask_px_00']  # ask price at sell time\n",
    "            sell_return = -1 * (sell_ask_price - first_buy_bid_price) / first_buy_bid_price\n",
    "            \n",
    "            # Combine buy and sell returns into overall trade return\n",
    "            bbo_df.loc[zero_index, 'return'] = buy_return + sell_return\n",
    "    \n",
    "    # Scale return to $1M for actual PnL calculation as per assignment description\n",
    "    bbo_df['scaled_return'] = bbo_df['return'] * 1_000_000\n",
    "    \n",
    "    # Cumulative returns for analysis\n",
    "    bbo_df['cumulative_return'] = bbo_df['scaled_return'].cumsum()\n",
    "    return bbo_df"
   ]
  },
  {
   "cell_type": "code",
   "execution_count": 106,
   "id": "2061d077-ee58-4bd3-b3f5-2a42817c4f26",
   "metadata": {},
   "outputs": [
    {
     "name": "stdout",
     "output_type": "stream",
     "text": [
      "Trade Signals (Buy/Sell):\n",
      " Series([], Freq: 100L, dtype: int64)\n"
     ]
    }
   ],
   "source": [
    "test = dfs[0]\n",
    "test = test.between_time('13:40', '19:55', inclusive='left')\n",
    "\n",
    "test['signal'] = moving_average_signal(test, short_window=50, long_window=500, b=0.05)\n",
    "\n",
    "df = execute_trading_signal(test, 'MA', order_size=1)"
   ]
  },
  {
   "cell_type": "code",
   "execution_count": null,
   "id": "8d08affd-39d8-451b-9bb2-491550c00790",
   "metadata": {},
   "outputs": [],
   "source": []
  },
  {
   "cell_type": "code",
   "execution_count": 4,
   "id": "b1ced212",
   "metadata": {},
   "outputs": [
    {
     "name": "stdout",
     "output_type": "stream",
     "text": [
      "Processing xnas-itch-20240826.mbp-1.csv\n",
      "Processed xnas-itch-20240826.mbp-1.csv\n"
     ]
    },
    {
     "ename": "NameError",
     "evalue": "name 'd1' is not defined",
     "output_type": "error",
     "traceback": [
      "\u001b[0;31m---------------------------------------------------------------------------\u001b[0m",
      "\u001b[0;31mNameError\u001b[0m                                 Traceback (most recent call last)",
      "Cell \u001b[0;32mIn[4], line 20\u001b[0m\n\u001b[1;32m     17\u001b[0m     \u001b[38;5;28;01mcontinue\u001b[39;00m\n\u001b[1;32m     19\u001b[0m \u001b[38;5;66;03m# Data cleaning and processing - resample to 100ms as per assignment description\u001b[39;00m\n\u001b[0;32m---> 20\u001b[0m nvda_bbo\u001b[38;5;241m=\u001b[39md1[d1[\u001b[38;5;124m'\u001b[39m\u001b[38;5;124msymbol\u001b[39m\u001b[38;5;124m'\u001b[39m]\u001b[38;5;241m==\u001b[39m\u001b[38;5;124m'\u001b[39m\u001b[38;5;124mNVDA\u001b[39m\u001b[38;5;124m'\u001b[39m]\u001b[38;5;241m.\u001b[39mset_index(\u001b[38;5;124m'\u001b[39m\u001b[38;5;124mts_event\u001b[39m\u001b[38;5;124m'\u001b[39m)\u001b[38;5;241m.\u001b[39mresample(\u001b[38;5;124m'\u001b[39m\u001b[38;5;124m100ms\u001b[39m\u001b[38;5;124m'\u001b[39m)\u001b[38;5;241m.\u001b[39mlast()\u001b[38;5;241m.\u001b[39mffill()\n\u001b[1;32m     22\u001b[0m \u001b[38;5;66;03m# Apply trading signal\u001b[39;00m\n\u001b[1;32m     23\u001b[0m nvda_bbo[\u001b[38;5;124m'\u001b[39m\u001b[38;5;124msignal\u001b[39m\u001b[38;5;124m'\u001b[39m]\u001b[38;5;241m=\u001b[39mgenerate_signal(nvda_bbo)\n",
      "\u001b[0;31mNameError\u001b[0m: name 'd1' is not defined"
     ]
    }
   ],
   "source": [
    "\n",
    "        #backtesting\n",
    "        zero_indices = nvda_bbo[(nvda_bbo['signal'] == 0) & (nvda_bbo['signal'].shift(1).fillna(0)!= 0)].index\n",
    "\n",
    "        for zero_index in tqdm(zero_indices):\n",
    "        # Find the last zero index behind the set of non-zero values\n",
    "            last_zero_index = nvda_bbo.loc[:zero_index-pd.Timedelta(milliseconds=100)][nvda_bbo['signal'] == 0].index[-1]\n",
    "            first_buy_index = last_zero_index + pd.Timedelta(milliseconds=100)\n",
    "            \n",
    "            if first_buy_index in nvda_bbo.index:\n",
    "                first_buy_price = nvda_bbo.loc[first_buy_index, 'ask_px_00']\n",
    "                sell_price = nvda_bbo.loc[zero_index, 'bid_px_00']\n",
    "                nvda_bbo.loc[zero_index, 'return'] = ((sell_price - first_buy_price) / first_buy_price)\n",
    "\n",
    "        nvda_bbo['cumulative_return'] = (nvda_bbo['return']).cumsum()\n",
    "        cumulative_returns=pd.concat([cumulative_returns,nvda_bbo['cumulative_return']])\n",
    "        "
   ]
  },
  {
   "cell_type": "code",
   "execution_count": null,
   "id": "31047294-4819-4760-9e18-ab33fc25f177",
   "metadata": {},
   "outputs": [],
   "source": []
  }
 ],
 "metadata": {
  "kernelspec": {
   "display_name": "Python 3 (ipykernel)",
   "language": "python",
   "name": "python3"
  },
  "language_info": {
   "codemirror_mode": {
    "name": "ipython",
    "version": 3
   },
   "file_extension": ".py",
   "mimetype": "text/x-python",
   "name": "python",
   "nbconvert_exporter": "python",
   "pygments_lexer": "ipython3",
   "version": "3.11.5"
  }
 },
 "nbformat": 4,
 "nbformat_minor": 5
}
