{
 "cells": [
  {
   "cell_type": "code",
   "execution_count": 1,
   "id": "b2cc7c46",
   "metadata": {},
   "outputs": [],
   "source": [
    "import pandas as pd\n",
    "\n",
    "df = pd.read_csv('xnas-itch-nvidia-cake.csv')"
   ]
  },
  {
   "cell_type": "code",
   "execution_count": 2,
   "id": "7a02a43c",
   "metadata": {},
   "outputs": [],
   "source": [
    "# Split up and prepare dataset\n",
    "\n",
    "def prepare_bid_ask_data(df):\n",
    "    \"\"\" Helper function to create bid_price, ask_price, bid_depth, and ask_depth columns\n",
    "        that will be used for later summary statistic calculations.\"\"\"\n",
    "    df.loc[:, 'bid_price'] = df.apply(lambda x: x['price'] if x['side'] == 'Bid' else None, axis=1)\n",
    "    df.loc[:, 'ask_price'] = df.apply(lambda x: x['price'] if x['side'] == 'Ask' else None, axis=1)\n",
    "    df.loc[:, 'bid_depth'] = df.apply(lambda x: x['depth'] if x['side'] == 'Bid' else None, axis=1)\n",
    "    df.loc[:, 'ask_depth'] = df.apply(lambda x: x['depth'] if x['side'] == 'Ask' else None, axis=1)\n",
    "    \n",
    "    # Forward fill the missing bid and ask prices and depths\n",
    "    df.loc[:, 'bid_price'] = df['bid_price'].ffill()\n",
    "    df.loc[:, 'ask_price'] = df['ask_price'].ffill()\n",
    "    df.loc[:, 'bid_depth'] = df['bid_depth'].ffill()\n",
    "    df.loc[:, 'ask_depth'] = df['ask_depth'].ffill()\n",
    "    \n",
    "    return df\n",
    "\n",
    "df = prepare_bid_ask_data(df)\n",
    "\n",
    "nvda_df = prepare_bid_ask_data(df[df['symbol'] == 'NVDA'].copy())\n",
    "cake_df = prepare_bid_ask_data(df[df['symbol'] == 'CAKE'].copy())\n"
   ]
  },
  {
   "cell_type": "markdown",
   "id": "7ffce5b4",
   "metadata": {},
   "source": [
    "# a. dollar trading volume per minute\n",
    "# b. number of trades and number of orders (orders only for NASDAQ ITCH) per minute\n",
    "# c. open, close, high and low prices\n",
    "# d. VWAP per minute"
   ]
  },
  {
   "cell_type": "code",
   "execution_count": 3,
   "id": "744a83cb",
   "metadata": {},
   "outputs": [],
   "source": [
    "# Calculate statistics for NVDA\n",
    "nvda_dollar_volume = (nvda_df['price'] * nvda_df['size']).sum()\n",
    "\n",
    "nvda_trades = nvda_df.shape[0]\n",
    "\n",
    "nvda_orders = nvda_df['sequence'].nunique()\n",
    "\n",
    "nvda_open = nvda_df.iloc[0]['price']\n",
    "\n",
    "nvda_close = nvda_df.iloc[-1]['price']\n",
    "\n",
    "nvda_high = nvda_df['price'].max()\n",
    "\n",
    "nvda_low = nvda_df['price'].min()\n",
    "\n",
    "nvda_vwap = nvda_df.groupby(pd.to_datetime(nvda_df['ts_event']).dt.floor('T')).apply(\n",
    "    lambda x: (x['price'] * x['size']).sum() / x['size'].sum())\n"
   ]
  },
  {
   "cell_type": "code",
   "execution_count": 4,
   "id": "b5f9effd",
   "metadata": {},
   "outputs": [],
   "source": [
    "# Calculate statistics for CAKE\n",
    "cake_dollar_volume = (cake_df['price'] * cake_df['size']).sum()\n",
    "\n",
    "cake_trades = cake_df.shape[0]\n",
    "\n",
    "cake_orders = cake_df['sequence'].nunique()\n",
    "\n",
    "cake_open = cake_df.iloc[0]['price']\n",
    "\n",
    "cake_close = cake_df.iloc[-1]['price']\n",
    "\n",
    "cake_high = cake_df['price'].max()\n",
    "\n",
    "cake_low = cake_df['price'].min()\n",
    "\n",
    "cake_vwap = cake_df.groupby(pd.to_datetime(cake_df['ts_event']).dt.floor('T')).apply(\n",
    "    lambda x: (x['price'] * x['size']).sum() / x['size'].sum())\n"
   ]
  },
  {
   "cell_type": "markdown",
   "id": "06352d55",
   "metadata": {},
   "source": [
    "# e. BBO spread and depth per minute"
   ]
  },
  {
   "cell_type": "code",
   "execution_count": 5,
   "id": "c5c2ba72",
   "metadata": {},
   "outputs": [],
   "source": [
    "\n",
    "# Calculate the BBO Spread\n",
    "df['bbo_spread'] = df['ask_price'] - df['bid_price']\n",
    "\n",
    "# Calculate the BBO Depth\n",
    "df['bbo_depth'] = df['bid_depth'] + df['ask_depth']\n",
    "\n",
    "# Group by minute and calculate the mean BBO Spread and BBO Depth for each minute\n",
    "bbo_stats_nvda = df[df['symbol'] == 'NVDA'].groupby(pd.to_datetime(df['ts_event']).dt.floor('T')).agg({\n",
    "    'bbo_spread': 'mean',\n",
    "    'bbo_depth': 'mean'\n",
    "})\n",
    "\n",
    "bbo_stats_cake = df[df['symbol'] == 'CAKE'].groupby(pd.to_datetime(df['ts_event']).dt.floor('T')).agg({\n",
    "    'bbo_spread': 'mean',\n",
    "    'bbo_depth': 'mean'\n",
    "})\n"
   ]
  },
  {
   "cell_type": "markdown",
   "id": "553b7caa",
   "metadata": {},
   "source": [
    "# g. 5-Second Price Impact"
   ]
  },
  {
   "cell_type": "code",
   "execution_count": null,
   "id": "49eaee0b",
   "metadata": {},
   "outputs": [],
   "source": [
    "# need to add more of the stats later"
   ]
  },
  {
   "cell_type": "code",
   "execution_count": 6,
   "id": "971e1dfa",
   "metadata": {},
   "outputs": [
    {
     "data": {
      "text/html": [
       "<div>\n",
       "<style scoped>\n",
       "    .dataframe tbody tr th:only-of-type {\n",
       "        vertical-align: middle;\n",
       "    }\n",
       "\n",
       "    .dataframe tbody tr th {\n",
       "        vertical-align: top;\n",
       "    }\n",
       "\n",
       "    .dataframe thead th {\n",
       "        text-align: right;\n",
       "    }\n",
       "</style>\n",
       "<table border=\"1\" class=\"dataframe\">\n",
       "  <thead>\n",
       "    <tr style=\"text-align: right;\">\n",
       "      <th></th>\n",
       "      <th>NVIDIA</th>\n",
       "      <th>CAKE</th>\n",
       "    </tr>\n",
       "  </thead>\n",
       "  <tbody>\n",
       "    <tr>\n",
       "      <th>Dollar Volume</th>\n",
       "      <td>3.184881e+09</td>\n",
       "      <td>1441245.96</td>\n",
       "    </tr>\n",
       "    <tr>\n",
       "      <th>Number of Trades</th>\n",
       "      <td>2.158610e+05</td>\n",
       "      <td>771.00</td>\n",
       "    </tr>\n",
       "    <tr>\n",
       "      <th>Number of Orders</th>\n",
       "      <td>2.158610e+05</td>\n",
       "      <td>771.00</td>\n",
       "    </tr>\n",
       "    <tr>\n",
       "      <th>Open</th>\n",
       "      <td>1.286300e+02</td>\n",
       "      <td>38.76</td>\n",
       "    </tr>\n",
       "    <tr>\n",
       "      <th>Close</th>\n",
       "      <td>1.256100e+02</td>\n",
       "      <td>38.70</td>\n",
       "    </tr>\n",
       "    <tr>\n",
       "      <th>High</th>\n",
       "      <td>1.308500e+02</td>\n",
       "      <td>39.09</td>\n",
       "    </tr>\n",
       "    <tr>\n",
       "      <th>Low</th>\n",
       "      <td>1.244300e+02</td>\n",
       "      <td>38.63</td>\n",
       "    </tr>\n",
       "  </tbody>\n",
       "</table>\n",
       "</div>"
      ],
      "text/plain": [
       "                        NVIDIA        CAKE\n",
       "Dollar Volume     3.184881e+09  1441245.96\n",
       "Number of Trades  2.158610e+05      771.00\n",
       "Number of Orders  2.158610e+05      771.00\n",
       "Open              1.286300e+02       38.76\n",
       "Close             1.256100e+02       38.70\n",
       "High              1.308500e+02       39.09\n",
       "Low               1.244300e+02       38.63"
      ]
     },
     "execution_count": 6,
     "metadata": {},
     "output_type": "execute_result"
    }
   ],
   "source": [
    "# Create the Summary DataFrame\n",
    "summary_statistics = pd.DataFrame({\n",
    "    'NVIDIA': [nvda_dollar_volume, nvda_trades, nvda_orders, nvda_open, nvda_close, nvda_high, nvda_low],\n",
    "    'CAKE': [cake_dollar_volume, cake_trades, cake_orders, cake_open, cake_close, cake_high, cake_low]\n",
    "}, index=['Dollar Volume', 'Number of Trades', 'Number of Orders', 'Open', 'Close', 'High', 'Low'])\n",
    "\n",
    "# Display the summary statistics\n",
    "summary_statistics\n",
    "\n"
   ]
  },
  {
   "cell_type": "code",
   "execution_count": null,
   "id": "0a021bfb",
   "metadata": {},
   "outputs": [],
   "source": []
  }
 ],
 "metadata": {
  "kernelspec": {
   "display_name": "Python 3 (ipykernel)",
   "language": "python",
   "name": "python3"
  },
  "language_info": {
   "codemirror_mode": {
    "name": "ipython",
    "version": 3
   },
   "file_extension": ".py",
   "mimetype": "text/x-python",
   "name": "python",
   "nbconvert_exporter": "python",
   "pygments_lexer": "ipython3",
   "version": "3.11.5"
  }
 },
 "nbformat": 4,
 "nbformat_minor": 5
}
